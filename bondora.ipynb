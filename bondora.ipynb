{
  "nbformat": 4,
  "nbformat_minor": 0,
  "metadata": {
    "colab": {
      "provenance": [],
      "mount_file_id": "14uCbvIPtpecZeL4kF4Qi1D3MQm3THAOK",
      "authorship_tag": "ABX9TyOqnfwNVPr0vGWI8LW1jkYu",
      "include_colab_link": true
    },
    "kernelspec": {
      "name": "python3",
      "display_name": "Python 3"
    },
    "language_info": {
      "name": "python"
    }
  },
  "cells": [
    {
      "cell_type": "markdown",
      "metadata": {
        "id": "view-in-github",
        "colab_type": "text"
      },
      "source": [
        "<a href=\"https://colab.research.google.com/github/shuklatushar/shuklatushar/blob/main/bondora.ipynb\" target=\"_parent\"><img src=\"https://colab.research.google.com/assets/colab-badge.svg\" alt=\"Open In Colab\"/></a>"
      ]
    },
    {
      "cell_type": "markdown",
      "source": [
        "Importing dependencies\n"
      ],
      "metadata": {
        "id": "joavo7LzE4mz"
      }
    },
    {
      "cell_type": "code",
      "execution_count": 81,
      "metadata": {
        "id": "yuNtmy0pDvOg"
      },
      "outputs": [],
      "source": [
        "import numpy as np\n",
        "import pandas as pd\n",
        "import matplotlib.pyplot as plt\n",
        "import seaborn as sns\n",
        "from sklearn.preprocessing import LabelEncoder\n",
        "from sklearn.model_selection import train_test_split\n",
        "from xgboost import XGBRegressor\n",
        "from sklearn import metrics\n",
        "pd.set_option('display.max_columns', 500)\n",
        "import warnings\n",
        "warnings.filterwarnings(\"ignore\")"
      ]
    },
    {
      "cell_type": "code",
      "source": [
        "db = pd.read_csv('/content/Bondora_raw.csv')"
      ],
      "metadata": {
        "id": "62oDXqnQe-77"
      },
      "execution_count": 82,
      "outputs": []
    },
    {
      "cell_type": "code",
      "source": [
        "db.head()"
      ],
      "metadata": {
        "colab": {
          "base_uri": "https://localhost:8080/",
          "height": 530
        },
        "id": "yorfAzL4GzGH",
        "outputId": "a5c911c6-bf04-44e5-91fb-8618bf5f1c50"
      },
      "execution_count": 83,
      "outputs": [
        {
          "output_type": "execute_result",
          "data": {
            "text/plain": [
              "  ReportAsOfEOD                                LoanId  LoanNumber  \\\n",
              "0    2020-01-27  F0660C80-83F3-4A97-8DA0-9C250112D6EC         659   \n",
              "1    2020-01-27  978BB85B-1C69-4D51-8447-9C240104A3A2         654   \n",
              "2    2020-01-27  EA44027E-7FA7-4BB2-846D-9C1F013C8A22         641   \n",
              "3    2020-01-27  CE67AD25-2951-4BEE-96BD-9C2700C61EF4         668   \n",
              "4    2020-01-27  9408BF8C-B159-4D6A-9D61-9C2400A986E3         652   \n",
              "\n",
              "           ListedOnUTC     BiddingStartedOn  BidsPortfolioManager  BidsApi  \\\n",
              "0  2009-06-11 16:40:39  2009-06-11 16:40:39                     0        0   \n",
              "1  2009-06-10 15:48:57  2009-06-10 15:48:57                     0        0   \n",
              "2  2009-06-05 19:12:29  2009-06-05 19:12:29                     0        0   \n",
              "3  2009-06-13 12:01:20  2009-06-13 12:01:20                     0        0   \n",
              "4  2009-06-10 10:17:13  2009-06-10 10:17:13                     0        0   \n",
              "\n",
              "   BidsManual  UserName  NewCreditCustomer LoanApplicationStartedDate  \\\n",
              "0    115.0410      KARU               True        2009-06-11 16:40:39   \n",
              "1    140.6057  koort681              False        2009-06-10 15:48:57   \n",
              "2    319.5580       0ie               True        2009-06-05 19:12:29   \n",
              "3     57.5205    Alyona               True        2009-06-13 12:01:20   \n",
              "4    319.5582       Kai               True        2009-06-10 10:17:13   \n",
              "\n",
              "     LoanDate ContractEndDate FirstPaymentDate MaturityDate_Original  \\\n",
              "0  2009-06-16      2010-07-06       2009-07-27            2010-06-25   \n",
              "1  2009-06-15      2009-07-07       2009-07-15            2009-07-15   \n",
              "2  2009-06-15             NaN       2009-07-27            2011-02-25   \n",
              "3  2009-06-15      2010-09-15       2009-07-15            2010-09-15   \n",
              "4  2009-06-14      2016-07-28       2009-07-27            2010-06-25   \n",
              "\n",
              "  MaturityDate_Last  ApplicationSignedHour  ApplicationSignedWeekday  \\\n",
              "0        2010-06-25                     17                         5   \n",
              "1        2009-07-15                     20                         4   \n",
              "2        2014-05-13                     20                         6   \n",
              "3        2010-09-15                     12                         7   \n",
              "4        2010-06-25                     10                         4   \n",
              "\n",
              "   VerificationType  LanguageCode  Age DateOfBirth  Gender Country  \\\n",
              "0               2.0             1   61  1947-11-26     1.0      EE   \n",
              "1               2.0             1   48  1960-11-05     1.0      EE   \n",
              "2               2.0             1   58  1950-11-13     1.0      EE   \n",
              "3               2.0             1   23  1986-03-29     1.0      EE   \n",
              "4               2.0             1   25  1983-09-30     1.0      EE   \n",
              "\n",
              "   AppliedAmount    Amount  Interest  LoanDuration  MonthlyPayment    County  \\\n",
              "0       319.5582  115.0408      30.0            12             NaN     HARJU   \n",
              "1       191.7349  140.6057      25.0             1             NaN  IDA-VIRU   \n",
              "2       319.5582  319.5409      25.0            20             NaN     PÄRNU   \n",
              "3       127.8233   57.5205      45.0            15             NaN     HARJU   \n",
              "4       319.5582  319.5436      30.0            12             NaN     TARTU   \n",
              "\n",
              "           City  UseOfLoan  Education  MaritalStatus NrOfDependants  \\\n",
              "0       TALLINN          7        3.0            1.0              0   \n",
              "1  KOHTLA-JARVE          7        5.0            4.0              0   \n",
              "2         PÄRNU          2        4.0            1.0              0   \n",
              "3      PALDISKI          0        2.0            3.0              1   \n",
              "4         TARTU          6        4.0            2.0              0   \n",
              "\n",
              "   EmploymentStatus EmploymentDurationCurrentEmployer  \\\n",
              "0               3.0                        UpTo3Years   \n",
              "1               3.0                    MoreThan5Years   \n",
              "2               3.0                        UpTo4Years   \n",
              "3               NaN                        UpTo2Years   \n",
              "4               3.0                        UpTo2Years   \n",
              "\n",
              "          EmploymentPosition   WorkExperience  OccupationArea  \\\n",
              "0          klienditeenindaja  MoreThan25Years             7.0   \n",
              "1  Õppealajuhataja lasteaias  MoreThan25Years            16.0   \n",
              "2                 teenindaja  MoreThan25Years             9.0   \n",
              "3               juhtmekoitja        2To5Years             1.0   \n",
              "4          klienditeenindaja       5To10Years             7.0   \n",
              "\n",
              "   HomeOwnershipType  IncomeFromPrincipalEmployer  IncomeFromPension  \\\n",
              "0                NaN                       6000.0                0.0   \n",
              "1                NaN                       8300.0                0.0   \n",
              "2                NaN                       5000.0                0.0   \n",
              "3                NaN                      11000.0                0.0   \n",
              "4                NaN                       6800.0                0.0   \n",
              "\n",
              "   IncomeFromFamilyAllowance  IncomeFromSocialWelfare  IncomeFromLeavePay  \\\n",
              "0                        0.0                      0.0                 0.0   \n",
              "1                        0.0                      0.0                 0.0   \n",
              "2                        0.0                      0.0                 0.0   \n",
              "3                        0.0                      0.0                 0.0   \n",
              "4                        0.0                      0.0                 0.0   \n",
              "\n",
              "   IncomeFromChildSupport  IncomeOther  IncomeTotal  ExistingLiabilities  \\\n",
              "0                     0.0       4500.0      10500.0                    0   \n",
              "1                     0.0       2500.0      10800.0                    0   \n",
              "2                     0.0       2000.0       7000.0                    0   \n",
              "3                     0.0        600.0      11600.0                    0   \n",
              "4                     0.0          0.0       6800.0                    0   \n",
              "\n",
              "   LiabilitiesTotal  RefinanceLiabilities  DebtToIncome  FreeCash  \\\n",
              "0               0.0                     0           0.0       0.0   \n",
              "1               0.0                     0           0.0       0.0   \n",
              "2               0.0                     0           0.0       0.0   \n",
              "3               0.0                     0           0.0       0.0   \n",
              "4               0.0                     0           0.0       0.0   \n",
              "\n",
              "   MonthlyPaymentDay  ActiveScheduleFirstPaymentReached  \\\n",
              "0                 25                               True   \n",
              "1                 15                               True   \n",
              "2                 25                               True   \n",
              "3                 15                               True   \n",
              "4                 25                               True   \n",
              "\n",
              "   PlannedPrincipalTillDate  PlannedInterestTillDate LastPaymentOn  \\\n",
              "0                 1800.0000                 319.0800    2010-07-06   \n",
              "1                 2200.0000                  45.8300    2009-07-07   \n",
              "2                  319.5409                 197.2926    2012-10-01   \n",
              "3                  900.0000                 293.1000    2010-09-15   \n",
              "4                 5000.0000                 833.8100    2015-07-16   \n",
              "\n",
              "   CurrentDebtDaysPrimary DebtOccuredOn  CurrentDebtDaysSecondary  \\\n",
              "0                     NaN           NaN                       NaN   \n",
              "1                     NaN           NaN                       NaN   \n",
              "2                  2813.0    2012-05-14                    2935.0   \n",
              "3                     NaN           NaN                       NaN   \n",
              "4                     NaN           NaN                    3835.0   \n",
              "\n",
              "  DebtOccuredOnForSecondary  ExpectedLoss  LossGivenDefault  ExpectedReturn  \\\n",
              "0                       NaN           NaN               NaN             NaN   \n",
              "1                       NaN           NaN               NaN             NaN   \n",
              "2                2012-01-13           NaN               NaN             NaN   \n",
              "3                       NaN           NaN               NaN             NaN   \n",
              "4                2009-07-27           NaN               NaN             NaN   \n",
              "\n",
              "   ProbabilityOfDefault DefaultDate  PrincipalOverdueBySchedule  \\\n",
              "0                   NaN         NaN                         NaN   \n",
              "1                   NaN         NaN                         NaN   \n",
              "2                   NaN  2012-07-16                      116.35   \n",
              "3                   NaN         NaN                         NaN   \n",
              "4                   NaN  2009-09-28                         NaN   \n",
              "\n",
              "   PlannedPrincipalPostDefault  PlannedInterestPostDefault      EAD1  \\\n",
              "0                          NaN                         NaN       NaN   \n",
              "1                          NaN                         NaN       NaN   \n",
              "2                       236.97                       38.24  279.5049   \n",
              "3                          NaN                         NaN       NaN   \n",
              "4                       247.76                       29.84  319.5436   \n",
              "\n",
              "       EAD2  PrincipalRecovery  InterestRecovery  RecoveryStage  \\\n",
              "0       NaN                NaN               NaN            NaN   \n",
              "1       NaN                NaN               NaN            NaN   \n",
              "2  270.7323           163.1549             50.99            NaN   \n",
              "3       NaN                NaN               NaN            NaN   \n",
              "4  319.5436           319.5436            220.42            NaN   \n",
              "\n",
              "      StageActiveSince  ModelVersion Rating  EL_V0 Rating_V0  EL_V1 Rating_V1  \\\n",
              "0                  NaN           NaN    NaN    NaN       NaN    NaN       NaN   \n",
              "1                  NaN           NaN    NaN    NaN       NaN    NaN       NaN   \n",
              "2  2016-03-03 00:00:00           NaN    NaN    NaN       NaN    NaN       NaN   \n",
              "3                  NaN           NaN    NaN    NaN       NaN    NaN       NaN   \n",
              "4                  NaN           NaN    NaN    NaN       NaN    NaN       NaN   \n",
              "\n",
              "  Rating_V2  Status  Restructured ActiveLateCategory WorseLateCategory  \\\n",
              "0       NaN  Repaid         False                NaN            91-120   \n",
              "1       NaN  Repaid         False                NaN               NaN   \n",
              "2       NaN    Late          True               180+              180+   \n",
              "3       NaN  Repaid         False                NaN             31-60   \n",
              "4       NaN  Repaid         False                NaN              180+   \n",
              "\n",
              "  CreditScoreEsMicroL CreditScoreEsEquifaxRisk  \\\n",
              "0                 NaN                      NaN   \n",
              "1                 NaN                      NaN   \n",
              "2                 NaN                      NaN   \n",
              "3                 NaN                      NaN   \n",
              "4                 NaN                      NaN   \n",
              "\n",
              "  CreditScoreFiAsiakasTietoRiskGrade  CreditScoreEeMini  \\\n",
              "0                                NaN                NaN   \n",
              "1                                NaN                NaN   \n",
              "2                                NaN                NaN   \n",
              "3                                NaN                NaN   \n",
              "4                                NaN                NaN   \n",
              "\n",
              "   PrincipalPaymentsMade  InterestAndPenaltyPaymentsMade  PrincipalWriteOffs  \\\n",
              "0               115.0408                         20.4222                 0.0   \n",
              "1               140.6057                          2.0227                 0.0   \n",
              "2               203.1909                         59.7626                 0.0   \n",
              "3                57.5205                         18.7323                 0.0   \n",
              "4               319.5436                        220.4200                 0.0   \n",
              "\n",
              "   InterestAndPenaltyWriteOffs  PrincipalBalance  InterestAndPenaltyBalance  \\\n",
              "0                          0.0              0.00                       0.00   \n",
              "1                          0.0              0.00                       0.00   \n",
              "2                          0.0            116.35                     414.07   \n",
              "3                          0.0              0.00                       0.00   \n",
              "4                          2.4              0.00                       0.00   \n",
              "\n",
              "   NoOfPreviousLoansBeforeLoan  AmountOfPreviousLoansBeforeLoan  \\\n",
              "0                            1                          83.0852   \n",
              "1                            2                         255.6467   \n",
              "2                            0                           0.0000   \n",
              "3                            1                         134.2144   \n",
              "4                            1                         146.9966   \n",
              "\n",
              "   PreviousRepaymentsBeforeLoan  PreviousEarlyRepaymentsBefoleLoan  \\\n",
              "0                        0.0000                                0.0   \n",
              "1                      258.6256                                0.0   \n",
              "2                        0.0000                                0.0   \n",
              "3                        0.0000                                0.0   \n",
              "4                        0.0000                                0.0   \n",
              "\n",
              "   PreviousEarlyRepaymentsCountBeforeLoan GracePeriodStart GracePeriodEnd  \\\n",
              "0                                       0              NaN            NaN   \n",
              "1                                       0              NaN            NaN   \n",
              "2                                       0              NaN            NaN   \n",
              "3                                       0              NaN            NaN   \n",
              "4                                       0              NaN            NaN   \n",
              "\n",
              "  NextPaymentDate  NextPaymentNr  NrOfScheduledPayments ReScheduledOn  \\\n",
              "0             NaN            NaN                    NaN           NaN   \n",
              "1             NaN            NaN                    NaN           NaN   \n",
              "2             NaN            NaN                    NaN           NaN   \n",
              "3             NaN            NaN                    NaN           NaN   \n",
              "4             NaN            NaN                    NaN           NaN   \n",
              "\n",
              "   PrincipalDebtServicingCost  InterestAndPenaltyDebtServicingCost  \\\n",
              "0                         0.0                                  0.0   \n",
              "1                         0.0                                  0.0   \n",
              "2                         0.0                                  0.0   \n",
              "3                         0.0                                  0.0   \n",
              "4                         0.0                                  0.0   \n",
              "\n",
              "  ActiveLateLastPaymentCategory  \n",
              "0                           NaN  \n",
              "1                           NaN  \n",
              "2                          180+  \n",
              "3                           NaN  \n",
              "4                          180+  "
            ],
            "text/html": [
              "\n",
              "  <div id=\"df-104596b4-9f70-464c-9a41-f9fdcac21a34\">\n",
              "    <div class=\"colab-df-container\">\n",
              "      <div>\n",
              "<style scoped>\n",
              "    .dataframe tbody tr th:only-of-type {\n",
              "        vertical-align: middle;\n",
              "    }\n",
              "\n",
              "    .dataframe tbody tr th {\n",
              "        vertical-align: top;\n",
              "    }\n",
              "\n",
              "    .dataframe thead th {\n",
              "        text-align: right;\n",
              "    }\n",
              "</style>\n",
              "<table border=\"1\" class=\"dataframe\">\n",
              "  <thead>\n",
              "    <tr style=\"text-align: right;\">\n",
              "      <th></th>\n",
              "      <th>ReportAsOfEOD</th>\n",
              "      <th>LoanId</th>\n",
              "      <th>LoanNumber</th>\n",
              "      <th>ListedOnUTC</th>\n",
              "      <th>BiddingStartedOn</th>\n",
              "      <th>BidsPortfolioManager</th>\n",
              "      <th>BidsApi</th>\n",
              "      <th>BidsManual</th>\n",
              "      <th>UserName</th>\n",
              "      <th>NewCreditCustomer</th>\n",
              "      <th>LoanApplicationStartedDate</th>\n",
              "      <th>LoanDate</th>\n",
              "      <th>ContractEndDate</th>\n",
              "      <th>FirstPaymentDate</th>\n",
              "      <th>MaturityDate_Original</th>\n",
              "      <th>MaturityDate_Last</th>\n",
              "      <th>ApplicationSignedHour</th>\n",
              "      <th>ApplicationSignedWeekday</th>\n",
              "      <th>VerificationType</th>\n",
              "      <th>LanguageCode</th>\n",
              "      <th>Age</th>\n",
              "      <th>DateOfBirth</th>\n",
              "      <th>Gender</th>\n",
              "      <th>Country</th>\n",
              "      <th>AppliedAmount</th>\n",
              "      <th>Amount</th>\n",
              "      <th>Interest</th>\n",
              "      <th>LoanDuration</th>\n",
              "      <th>MonthlyPayment</th>\n",
              "      <th>County</th>\n",
              "      <th>City</th>\n",
              "      <th>UseOfLoan</th>\n",
              "      <th>Education</th>\n",
              "      <th>MaritalStatus</th>\n",
              "      <th>NrOfDependants</th>\n",
              "      <th>EmploymentStatus</th>\n",
              "      <th>EmploymentDurationCurrentEmployer</th>\n",
              "      <th>EmploymentPosition</th>\n",
              "      <th>WorkExperience</th>\n",
              "      <th>OccupationArea</th>\n",
              "      <th>HomeOwnershipType</th>\n",
              "      <th>IncomeFromPrincipalEmployer</th>\n",
              "      <th>IncomeFromPension</th>\n",
              "      <th>IncomeFromFamilyAllowance</th>\n",
              "      <th>IncomeFromSocialWelfare</th>\n",
              "      <th>IncomeFromLeavePay</th>\n",
              "      <th>IncomeFromChildSupport</th>\n",
              "      <th>IncomeOther</th>\n",
              "      <th>IncomeTotal</th>\n",
              "      <th>ExistingLiabilities</th>\n",
              "      <th>LiabilitiesTotal</th>\n",
              "      <th>RefinanceLiabilities</th>\n",
              "      <th>DebtToIncome</th>\n",
              "      <th>FreeCash</th>\n",
              "      <th>MonthlyPaymentDay</th>\n",
              "      <th>ActiveScheduleFirstPaymentReached</th>\n",
              "      <th>PlannedPrincipalTillDate</th>\n",
              "      <th>PlannedInterestTillDate</th>\n",
              "      <th>LastPaymentOn</th>\n",
              "      <th>CurrentDebtDaysPrimary</th>\n",
              "      <th>DebtOccuredOn</th>\n",
              "      <th>CurrentDebtDaysSecondary</th>\n",
              "      <th>DebtOccuredOnForSecondary</th>\n",
              "      <th>ExpectedLoss</th>\n",
              "      <th>LossGivenDefault</th>\n",
              "      <th>ExpectedReturn</th>\n",
              "      <th>ProbabilityOfDefault</th>\n",
              "      <th>DefaultDate</th>\n",
              "      <th>PrincipalOverdueBySchedule</th>\n",
              "      <th>PlannedPrincipalPostDefault</th>\n",
              "      <th>PlannedInterestPostDefault</th>\n",
              "      <th>EAD1</th>\n",
              "      <th>EAD2</th>\n",
              "      <th>PrincipalRecovery</th>\n",
              "      <th>InterestRecovery</th>\n",
              "      <th>RecoveryStage</th>\n",
              "      <th>StageActiveSince</th>\n",
              "      <th>ModelVersion</th>\n",
              "      <th>Rating</th>\n",
              "      <th>EL_V0</th>\n",
              "      <th>Rating_V0</th>\n",
              "      <th>EL_V1</th>\n",
              "      <th>Rating_V1</th>\n",
              "      <th>Rating_V2</th>\n",
              "      <th>Status</th>\n",
              "      <th>Restructured</th>\n",
              "      <th>ActiveLateCategory</th>\n",
              "      <th>WorseLateCategory</th>\n",
              "      <th>CreditScoreEsMicroL</th>\n",
              "      <th>CreditScoreEsEquifaxRisk</th>\n",
              "      <th>CreditScoreFiAsiakasTietoRiskGrade</th>\n",
              "      <th>CreditScoreEeMini</th>\n",
              "      <th>PrincipalPaymentsMade</th>\n",
              "      <th>InterestAndPenaltyPaymentsMade</th>\n",
              "      <th>PrincipalWriteOffs</th>\n",
              "      <th>InterestAndPenaltyWriteOffs</th>\n",
              "      <th>PrincipalBalance</th>\n",
              "      <th>InterestAndPenaltyBalance</th>\n",
              "      <th>NoOfPreviousLoansBeforeLoan</th>\n",
              "      <th>AmountOfPreviousLoansBeforeLoan</th>\n",
              "      <th>PreviousRepaymentsBeforeLoan</th>\n",
              "      <th>PreviousEarlyRepaymentsBefoleLoan</th>\n",
              "      <th>PreviousEarlyRepaymentsCountBeforeLoan</th>\n",
              "      <th>GracePeriodStart</th>\n",
              "      <th>GracePeriodEnd</th>\n",
              "      <th>NextPaymentDate</th>\n",
              "      <th>NextPaymentNr</th>\n",
              "      <th>NrOfScheduledPayments</th>\n",
              "      <th>ReScheduledOn</th>\n",
              "      <th>PrincipalDebtServicingCost</th>\n",
              "      <th>InterestAndPenaltyDebtServicingCost</th>\n",
              "      <th>ActiveLateLastPaymentCategory</th>\n",
              "    </tr>\n",
              "  </thead>\n",
              "  <tbody>\n",
              "    <tr>\n",
              "      <th>0</th>\n",
              "      <td>2020-01-27</td>\n",
              "      <td>F0660C80-83F3-4A97-8DA0-9C250112D6EC</td>\n",
              "      <td>659</td>\n",
              "      <td>2009-06-11 16:40:39</td>\n",
              "      <td>2009-06-11 16:40:39</td>\n",
              "      <td>0</td>\n",
              "      <td>0</td>\n",
              "      <td>115.0410</td>\n",
              "      <td>KARU</td>\n",
              "      <td>True</td>\n",
              "      <td>2009-06-11 16:40:39</td>\n",
              "      <td>2009-06-16</td>\n",
              "      <td>2010-07-06</td>\n",
              "      <td>2009-07-27</td>\n",
              "      <td>2010-06-25</td>\n",
              "      <td>2010-06-25</td>\n",
              "      <td>17</td>\n",
              "      <td>5</td>\n",
              "      <td>2.0</td>\n",
              "      <td>1</td>\n",
              "      <td>61</td>\n",
              "      <td>1947-11-26</td>\n",
              "      <td>1.0</td>\n",
              "      <td>EE</td>\n",
              "      <td>319.5582</td>\n",
              "      <td>115.0408</td>\n",
              "      <td>30.0</td>\n",
              "      <td>12</td>\n",
              "      <td>NaN</td>\n",
              "      <td>HARJU</td>\n",
              "      <td>TALLINN</td>\n",
              "      <td>7</td>\n",
              "      <td>3.0</td>\n",
              "      <td>1.0</td>\n",
              "      <td>0</td>\n",
              "      <td>3.0</td>\n",
              "      <td>UpTo3Years</td>\n",
              "      <td>klienditeenindaja</td>\n",
              "      <td>MoreThan25Years</td>\n",
              "      <td>7.0</td>\n",
              "      <td>NaN</td>\n",
              "      <td>6000.0</td>\n",
              "      <td>0.0</td>\n",
              "      <td>0.0</td>\n",
              "      <td>0.0</td>\n",
              "      <td>0.0</td>\n",
              "      <td>0.0</td>\n",
              "      <td>4500.0</td>\n",
              "      <td>10500.0</td>\n",
              "      <td>0</td>\n",
              "      <td>0.0</td>\n",
              "      <td>0</td>\n",
              "      <td>0.0</td>\n",
              "      <td>0.0</td>\n",
              "      <td>25</td>\n",
              "      <td>True</td>\n",
              "      <td>1800.0000</td>\n",
              "      <td>319.0800</td>\n",
              "      <td>2010-07-06</td>\n",
              "      <td>NaN</td>\n",
              "      <td>NaN</td>\n",
              "      <td>NaN</td>\n",
              "      <td>NaN</td>\n",
              "      <td>NaN</td>\n",
              "      <td>NaN</td>\n",
              "      <td>NaN</td>\n",
              "      <td>NaN</td>\n",
              "      <td>NaN</td>\n",
              "      <td>NaN</td>\n",
              "      <td>NaN</td>\n",
              "      <td>NaN</td>\n",
              "      <td>NaN</td>\n",
              "      <td>NaN</td>\n",
              "      <td>NaN</td>\n",
              "      <td>NaN</td>\n",
              "      <td>NaN</td>\n",
              "      <td>NaN</td>\n",
              "      <td>NaN</td>\n",
              "      <td>NaN</td>\n",
              "      <td>NaN</td>\n",
              "      <td>NaN</td>\n",
              "      <td>NaN</td>\n",
              "      <td>NaN</td>\n",
              "      <td>NaN</td>\n",
              "      <td>Repaid</td>\n",
              "      <td>False</td>\n",
              "      <td>NaN</td>\n",
              "      <td>91-120</td>\n",
              "      <td>NaN</td>\n",
              "      <td>NaN</td>\n",
              "      <td>NaN</td>\n",
              "      <td>NaN</td>\n",
              "      <td>115.0408</td>\n",
              "      <td>20.4222</td>\n",
              "      <td>0.0</td>\n",
              "      <td>0.0</td>\n",
              "      <td>0.00</td>\n",
              "      <td>0.00</td>\n",
              "      <td>1</td>\n",
              "      <td>83.0852</td>\n",
              "      <td>0.0000</td>\n",
              "      <td>0.0</td>\n",
              "      <td>0</td>\n",
              "      <td>NaN</td>\n",
              "      <td>NaN</td>\n",
              "      <td>NaN</td>\n",
              "      <td>NaN</td>\n",
              "      <td>NaN</td>\n",
              "      <td>NaN</td>\n",
              "      <td>0.0</td>\n",
              "      <td>0.0</td>\n",
              "      <td>NaN</td>\n",
              "    </tr>\n",
              "    <tr>\n",
              "      <th>1</th>\n",
              "      <td>2020-01-27</td>\n",
              "      <td>978BB85B-1C69-4D51-8447-9C240104A3A2</td>\n",
              "      <td>654</td>\n",
              "      <td>2009-06-10 15:48:57</td>\n",
              "      <td>2009-06-10 15:48:57</td>\n",
              "      <td>0</td>\n",
              "      <td>0</td>\n",
              "      <td>140.6057</td>\n",
              "      <td>koort681</td>\n",
              "      <td>False</td>\n",
              "      <td>2009-06-10 15:48:57</td>\n",
              "      <td>2009-06-15</td>\n",
              "      <td>2009-07-07</td>\n",
              "      <td>2009-07-15</td>\n",
              "      <td>2009-07-15</td>\n",
              "      <td>2009-07-15</td>\n",
              "      <td>20</td>\n",
              "      <td>4</td>\n",
              "      <td>2.0</td>\n",
              "      <td>1</td>\n",
              "      <td>48</td>\n",
              "      <td>1960-11-05</td>\n",
              "      <td>1.0</td>\n",
              "      <td>EE</td>\n",
              "      <td>191.7349</td>\n",
              "      <td>140.6057</td>\n",
              "      <td>25.0</td>\n",
              "      <td>1</td>\n",
              "      <td>NaN</td>\n",
              "      <td>IDA-VIRU</td>\n",
              "      <td>KOHTLA-JARVE</td>\n",
              "      <td>7</td>\n",
              "      <td>5.0</td>\n",
              "      <td>4.0</td>\n",
              "      <td>0</td>\n",
              "      <td>3.0</td>\n",
              "      <td>MoreThan5Years</td>\n",
              "      <td>Õppealajuhataja lasteaias</td>\n",
              "      <td>MoreThan25Years</td>\n",
              "      <td>16.0</td>\n",
              "      <td>NaN</td>\n",
              "      <td>8300.0</td>\n",
              "      <td>0.0</td>\n",
              "      <td>0.0</td>\n",
              "      <td>0.0</td>\n",
              "      <td>0.0</td>\n",
              "      <td>0.0</td>\n",
              "      <td>2500.0</td>\n",
              "      <td>10800.0</td>\n",
              "      <td>0</td>\n",
              "      <td>0.0</td>\n",
              "      <td>0</td>\n",
              "      <td>0.0</td>\n",
              "      <td>0.0</td>\n",
              "      <td>15</td>\n",
              "      <td>True</td>\n",
              "      <td>2200.0000</td>\n",
              "      <td>45.8300</td>\n",
              "      <td>2009-07-07</td>\n",
              "      <td>NaN</td>\n",
              "      <td>NaN</td>\n",
              "      <td>NaN</td>\n",
              "      <td>NaN</td>\n",
              "      <td>NaN</td>\n",
              "      <td>NaN</td>\n",
              "      <td>NaN</td>\n",
              "      <td>NaN</td>\n",
              "      <td>NaN</td>\n",
              "      <td>NaN</td>\n",
              "      <td>NaN</td>\n",
              "      <td>NaN</td>\n",
              "      <td>NaN</td>\n",
              "      <td>NaN</td>\n",
              "      <td>NaN</td>\n",
              "      <td>NaN</td>\n",
              "      <td>NaN</td>\n",
              "      <td>NaN</td>\n",
              "      <td>NaN</td>\n",
              "      <td>NaN</td>\n",
              "      <td>NaN</td>\n",
              "      <td>NaN</td>\n",
              "      <td>NaN</td>\n",
              "      <td>NaN</td>\n",
              "      <td>NaN</td>\n",
              "      <td>Repaid</td>\n",
              "      <td>False</td>\n",
              "      <td>NaN</td>\n",
              "      <td>NaN</td>\n",
              "      <td>NaN</td>\n",
              "      <td>NaN</td>\n",
              "      <td>NaN</td>\n",
              "      <td>NaN</td>\n",
              "      <td>140.6057</td>\n",
              "      <td>2.0227</td>\n",
              "      <td>0.0</td>\n",
              "      <td>0.0</td>\n",
              "      <td>0.00</td>\n",
              "      <td>0.00</td>\n",
              "      <td>2</td>\n",
              "      <td>255.6467</td>\n",
              "      <td>258.6256</td>\n",
              "      <td>0.0</td>\n",
              "      <td>0</td>\n",
              "      <td>NaN</td>\n",
              "      <td>NaN</td>\n",
              "      <td>NaN</td>\n",
              "      <td>NaN</td>\n",
              "      <td>NaN</td>\n",
              "      <td>NaN</td>\n",
              "      <td>0.0</td>\n",
              "      <td>0.0</td>\n",
              "      <td>NaN</td>\n",
              "    </tr>\n",
              "    <tr>\n",
              "      <th>2</th>\n",
              "      <td>2020-01-27</td>\n",
              "      <td>EA44027E-7FA7-4BB2-846D-9C1F013C8A22</td>\n",
              "      <td>641</td>\n",
              "      <td>2009-06-05 19:12:29</td>\n",
              "      <td>2009-06-05 19:12:29</td>\n",
              "      <td>0</td>\n",
              "      <td>0</td>\n",
              "      <td>319.5580</td>\n",
              "      <td>0ie</td>\n",
              "      <td>True</td>\n",
              "      <td>2009-06-05 19:12:29</td>\n",
              "      <td>2009-06-15</td>\n",
              "      <td>NaN</td>\n",
              "      <td>2009-07-27</td>\n",
              "      <td>2011-02-25</td>\n",
              "      <td>2014-05-13</td>\n",
              "      <td>20</td>\n",
              "      <td>6</td>\n",
              "      <td>2.0</td>\n",
              "      <td>1</td>\n",
              "      <td>58</td>\n",
              "      <td>1950-11-13</td>\n",
              "      <td>1.0</td>\n",
              "      <td>EE</td>\n",
              "      <td>319.5582</td>\n",
              "      <td>319.5409</td>\n",
              "      <td>25.0</td>\n",
              "      <td>20</td>\n",
              "      <td>NaN</td>\n",
              "      <td>PÄRNU</td>\n",
              "      <td>PÄRNU</td>\n",
              "      <td>2</td>\n",
              "      <td>4.0</td>\n",
              "      <td>1.0</td>\n",
              "      <td>0</td>\n",
              "      <td>3.0</td>\n",
              "      <td>UpTo4Years</td>\n",
              "      <td>teenindaja</td>\n",
              "      <td>MoreThan25Years</td>\n",
              "      <td>9.0</td>\n",
              "      <td>NaN</td>\n",
              "      <td>5000.0</td>\n",
              "      <td>0.0</td>\n",
              "      <td>0.0</td>\n",
              "      <td>0.0</td>\n",
              "      <td>0.0</td>\n",
              "      <td>0.0</td>\n",
              "      <td>2000.0</td>\n",
              "      <td>7000.0</td>\n",
              "      <td>0</td>\n",
              "      <td>0.0</td>\n",
              "      <td>0</td>\n",
              "      <td>0.0</td>\n",
              "      <td>0.0</td>\n",
              "      <td>25</td>\n",
              "      <td>True</td>\n",
              "      <td>319.5409</td>\n",
              "      <td>197.2926</td>\n",
              "      <td>2012-10-01</td>\n",
              "      <td>2813.0</td>\n",
              "      <td>2012-05-14</td>\n",
              "      <td>2935.0</td>\n",
              "      <td>2012-01-13</td>\n",
              "      <td>NaN</td>\n",
              "      <td>NaN</td>\n",
              "      <td>NaN</td>\n",
              "      <td>NaN</td>\n",
              "      <td>2012-07-16</td>\n",
              "      <td>116.35</td>\n",
              "      <td>236.97</td>\n",
              "      <td>38.24</td>\n",
              "      <td>279.5049</td>\n",
              "      <td>270.7323</td>\n",
              "      <td>163.1549</td>\n",
              "      <td>50.99</td>\n",
              "      <td>NaN</td>\n",
              "      <td>2016-03-03 00:00:00</td>\n",
              "      <td>NaN</td>\n",
              "      <td>NaN</td>\n",
              "      <td>NaN</td>\n",
              "      <td>NaN</td>\n",
              "      <td>NaN</td>\n",
              "      <td>NaN</td>\n",
              "      <td>NaN</td>\n",
              "      <td>Late</td>\n",
              "      <td>True</td>\n",
              "      <td>180+</td>\n",
              "      <td>180+</td>\n",
              "      <td>NaN</td>\n",
              "      <td>NaN</td>\n",
              "      <td>NaN</td>\n",
              "      <td>NaN</td>\n",
              "      <td>203.1909</td>\n",
              "      <td>59.7626</td>\n",
              "      <td>0.0</td>\n",
              "      <td>0.0</td>\n",
              "      <td>116.35</td>\n",
              "      <td>414.07</td>\n",
              "      <td>0</td>\n",
              "      <td>0.0000</td>\n",
              "      <td>0.0000</td>\n",
              "      <td>0.0</td>\n",
              "      <td>0</td>\n",
              "      <td>NaN</td>\n",
              "      <td>NaN</td>\n",
              "      <td>NaN</td>\n",
              "      <td>NaN</td>\n",
              "      <td>NaN</td>\n",
              "      <td>NaN</td>\n",
              "      <td>0.0</td>\n",
              "      <td>0.0</td>\n",
              "      <td>180+</td>\n",
              "    </tr>\n",
              "    <tr>\n",
              "      <th>3</th>\n",
              "      <td>2020-01-27</td>\n",
              "      <td>CE67AD25-2951-4BEE-96BD-9C2700C61EF4</td>\n",
              "      <td>668</td>\n",
              "      <td>2009-06-13 12:01:20</td>\n",
              "      <td>2009-06-13 12:01:20</td>\n",
              "      <td>0</td>\n",
              "      <td>0</td>\n",
              "      <td>57.5205</td>\n",
              "      <td>Alyona</td>\n",
              "      <td>True</td>\n",
              "      <td>2009-06-13 12:01:20</td>\n",
              "      <td>2009-06-15</td>\n",
              "      <td>2010-09-15</td>\n",
              "      <td>2009-07-15</td>\n",
              "      <td>2010-09-15</td>\n",
              "      <td>2010-09-15</td>\n",
              "      <td>12</td>\n",
              "      <td>7</td>\n",
              "      <td>2.0</td>\n",
              "      <td>1</td>\n",
              "      <td>23</td>\n",
              "      <td>1986-03-29</td>\n",
              "      <td>1.0</td>\n",
              "      <td>EE</td>\n",
              "      <td>127.8233</td>\n",
              "      <td>57.5205</td>\n",
              "      <td>45.0</td>\n",
              "      <td>15</td>\n",
              "      <td>NaN</td>\n",
              "      <td>HARJU</td>\n",
              "      <td>PALDISKI</td>\n",
              "      <td>0</td>\n",
              "      <td>2.0</td>\n",
              "      <td>3.0</td>\n",
              "      <td>1</td>\n",
              "      <td>NaN</td>\n",
              "      <td>UpTo2Years</td>\n",
              "      <td>juhtmekoitja</td>\n",
              "      <td>2To5Years</td>\n",
              "      <td>1.0</td>\n",
              "      <td>NaN</td>\n",
              "      <td>11000.0</td>\n",
              "      <td>0.0</td>\n",
              "      <td>0.0</td>\n",
              "      <td>0.0</td>\n",
              "      <td>0.0</td>\n",
              "      <td>0.0</td>\n",
              "      <td>600.0</td>\n",
              "      <td>11600.0</td>\n",
              "      <td>0</td>\n",
              "      <td>0.0</td>\n",
              "      <td>0</td>\n",
              "      <td>0.0</td>\n",
              "      <td>0.0</td>\n",
              "      <td>15</td>\n",
              "      <td>True</td>\n",
              "      <td>900.0000</td>\n",
              "      <td>293.1000</td>\n",
              "      <td>2010-09-15</td>\n",
              "      <td>NaN</td>\n",
              "      <td>NaN</td>\n",
              "      <td>NaN</td>\n",
              "      <td>NaN</td>\n",
              "      <td>NaN</td>\n",
              "      <td>NaN</td>\n",
              "      <td>NaN</td>\n",
              "      <td>NaN</td>\n",
              "      <td>NaN</td>\n",
              "      <td>NaN</td>\n",
              "      <td>NaN</td>\n",
              "      <td>NaN</td>\n",
              "      <td>NaN</td>\n",
              "      <td>NaN</td>\n",
              "      <td>NaN</td>\n",
              "      <td>NaN</td>\n",
              "      <td>NaN</td>\n",
              "      <td>NaN</td>\n",
              "      <td>NaN</td>\n",
              "      <td>NaN</td>\n",
              "      <td>NaN</td>\n",
              "      <td>NaN</td>\n",
              "      <td>NaN</td>\n",
              "      <td>NaN</td>\n",
              "      <td>NaN</td>\n",
              "      <td>Repaid</td>\n",
              "      <td>False</td>\n",
              "      <td>NaN</td>\n",
              "      <td>31-60</td>\n",
              "      <td>NaN</td>\n",
              "      <td>NaN</td>\n",
              "      <td>NaN</td>\n",
              "      <td>NaN</td>\n",
              "      <td>57.5205</td>\n",
              "      <td>18.7323</td>\n",
              "      <td>0.0</td>\n",
              "      <td>0.0</td>\n",
              "      <td>0.00</td>\n",
              "      <td>0.00</td>\n",
              "      <td>1</td>\n",
              "      <td>134.2144</td>\n",
              "      <td>0.0000</td>\n",
              "      <td>0.0</td>\n",
              "      <td>0</td>\n",
              "      <td>NaN</td>\n",
              "      <td>NaN</td>\n",
              "      <td>NaN</td>\n",
              "      <td>NaN</td>\n",
              "      <td>NaN</td>\n",
              "      <td>NaN</td>\n",
              "      <td>0.0</td>\n",
              "      <td>0.0</td>\n",
              "      <td>NaN</td>\n",
              "    </tr>\n",
              "    <tr>\n",
              "      <th>4</th>\n",
              "      <td>2020-01-27</td>\n",
              "      <td>9408BF8C-B159-4D6A-9D61-9C2400A986E3</td>\n",
              "      <td>652</td>\n",
              "      <td>2009-06-10 10:17:13</td>\n",
              "      <td>2009-06-10 10:17:13</td>\n",
              "      <td>0</td>\n",
              "      <td>0</td>\n",
              "      <td>319.5582</td>\n",
              "      <td>Kai</td>\n",
              "      <td>True</td>\n",
              "      <td>2009-06-10 10:17:13</td>\n",
              "      <td>2009-06-14</td>\n",
              "      <td>2016-07-28</td>\n",
              "      <td>2009-07-27</td>\n",
              "      <td>2010-06-25</td>\n",
              "      <td>2010-06-25</td>\n",
              "      <td>10</td>\n",
              "      <td>4</td>\n",
              "      <td>2.0</td>\n",
              "      <td>1</td>\n",
              "      <td>25</td>\n",
              "      <td>1983-09-30</td>\n",
              "      <td>1.0</td>\n",
              "      <td>EE</td>\n",
              "      <td>319.5582</td>\n",
              "      <td>319.5436</td>\n",
              "      <td>30.0</td>\n",
              "      <td>12</td>\n",
              "      <td>NaN</td>\n",
              "      <td>TARTU</td>\n",
              "      <td>TARTU</td>\n",
              "      <td>6</td>\n",
              "      <td>4.0</td>\n",
              "      <td>2.0</td>\n",
              "      <td>0</td>\n",
              "      <td>3.0</td>\n",
              "      <td>UpTo2Years</td>\n",
              "      <td>klienditeenindaja</td>\n",
              "      <td>5To10Years</td>\n",
              "      <td>7.0</td>\n",
              "      <td>NaN</td>\n",
              "      <td>6800.0</td>\n",
              "      <td>0.0</td>\n",
              "      <td>0.0</td>\n",
              "      <td>0.0</td>\n",
              "      <td>0.0</td>\n",
              "      <td>0.0</td>\n",
              "      <td>0.0</td>\n",
              "      <td>6800.0</td>\n",
              "      <td>0</td>\n",
              "      <td>0.0</td>\n",
              "      <td>0</td>\n",
              "      <td>0.0</td>\n",
              "      <td>0.0</td>\n",
              "      <td>25</td>\n",
              "      <td>True</td>\n",
              "      <td>5000.0000</td>\n",
              "      <td>833.8100</td>\n",
              "      <td>2015-07-16</td>\n",
              "      <td>NaN</td>\n",
              "      <td>NaN</td>\n",
              "      <td>3835.0</td>\n",
              "      <td>2009-07-27</td>\n",
              "      <td>NaN</td>\n",
              "      <td>NaN</td>\n",
              "      <td>NaN</td>\n",
              "      <td>NaN</td>\n",
              "      <td>2009-09-28</td>\n",
              "      <td>NaN</td>\n",
              "      <td>247.76</td>\n",
              "      <td>29.84</td>\n",
              "      <td>319.5436</td>\n",
              "      <td>319.5436</td>\n",
              "      <td>319.5436</td>\n",
              "      <td>220.42</td>\n",
              "      <td>NaN</td>\n",
              "      <td>NaN</td>\n",
              "      <td>NaN</td>\n",
              "      <td>NaN</td>\n",
              "      <td>NaN</td>\n",
              "      <td>NaN</td>\n",
              "      <td>NaN</td>\n",
              "      <td>NaN</td>\n",
              "      <td>NaN</td>\n",
              "      <td>Repaid</td>\n",
              "      <td>False</td>\n",
              "      <td>NaN</td>\n",
              "      <td>180+</td>\n",
              "      <td>NaN</td>\n",
              "      <td>NaN</td>\n",
              "      <td>NaN</td>\n",
              "      <td>NaN</td>\n",
              "      <td>319.5436</td>\n",
              "      <td>220.4200</td>\n",
              "      <td>0.0</td>\n",
              "      <td>2.4</td>\n",
              "      <td>0.00</td>\n",
              "      <td>0.00</td>\n",
              "      <td>1</td>\n",
              "      <td>146.9966</td>\n",
              "      <td>0.0000</td>\n",
              "      <td>0.0</td>\n",
              "      <td>0</td>\n",
              "      <td>NaN</td>\n",
              "      <td>NaN</td>\n",
              "      <td>NaN</td>\n",
              "      <td>NaN</td>\n",
              "      <td>NaN</td>\n",
              "      <td>NaN</td>\n",
              "      <td>0.0</td>\n",
              "      <td>0.0</td>\n",
              "      <td>180+</td>\n",
              "    </tr>\n",
              "  </tbody>\n",
              "</table>\n",
              "</div>\n",
              "      <button class=\"colab-df-convert\" onclick=\"convertToInteractive('df-104596b4-9f70-464c-9a41-f9fdcac21a34')\"\n",
              "              title=\"Convert this dataframe to an interactive table.\"\n",
              "              style=\"display:none;\">\n",
              "        \n",
              "  <svg xmlns=\"http://www.w3.org/2000/svg\" height=\"24px\"viewBox=\"0 0 24 24\"\n",
              "       width=\"24px\">\n",
              "    <path d=\"M0 0h24v24H0V0z\" fill=\"none\"/>\n",
              "    <path d=\"M18.56 5.44l.94 2.06.94-2.06 2.06-.94-2.06-.94-.94-2.06-.94 2.06-2.06.94zm-11 1L8.5 8.5l.94-2.06 2.06-.94-2.06-.94L8.5 2.5l-.94 2.06-2.06.94zm10 10l.94 2.06.94-2.06 2.06-.94-2.06-.94-.94-2.06-.94 2.06-2.06.94z\"/><path d=\"M17.41 7.96l-1.37-1.37c-.4-.4-.92-.59-1.43-.59-.52 0-1.04.2-1.43.59L10.3 9.45l-7.72 7.72c-.78.78-.78 2.05 0 2.83L4 21.41c.39.39.9.59 1.41.59.51 0 1.02-.2 1.41-.59l7.78-7.78 2.81-2.81c.8-.78.8-2.07 0-2.86zM5.41 20L4 18.59l7.72-7.72 1.47 1.35L5.41 20z\"/>\n",
              "  </svg>\n",
              "      </button>\n",
              "      \n",
              "  <style>\n",
              "    .colab-df-container {\n",
              "      display:flex;\n",
              "      flex-wrap:wrap;\n",
              "      gap: 12px;\n",
              "    }\n",
              "\n",
              "    .colab-df-convert {\n",
              "      background-color: #E8F0FE;\n",
              "      border: none;\n",
              "      border-radius: 50%;\n",
              "      cursor: pointer;\n",
              "      display: none;\n",
              "      fill: #1967D2;\n",
              "      height: 32px;\n",
              "      padding: 0 0 0 0;\n",
              "      width: 32px;\n",
              "    }\n",
              "\n",
              "    .colab-df-convert:hover {\n",
              "      background-color: #E2EBFA;\n",
              "      box-shadow: 0px 1px 2px rgba(60, 64, 67, 0.3), 0px 1px 3px 1px rgba(60, 64, 67, 0.15);\n",
              "      fill: #174EA6;\n",
              "    }\n",
              "\n",
              "    [theme=dark] .colab-df-convert {\n",
              "      background-color: #3B4455;\n",
              "      fill: #D2E3FC;\n",
              "    }\n",
              "\n",
              "    [theme=dark] .colab-df-convert:hover {\n",
              "      background-color: #434B5C;\n",
              "      box-shadow: 0px 1px 3px 1px rgba(0, 0, 0, 0.15);\n",
              "      filter: drop-shadow(0px 1px 2px rgba(0, 0, 0, 0.3));\n",
              "      fill: #FFFFFF;\n",
              "    }\n",
              "  </style>\n",
              "\n",
              "      <script>\n",
              "        const buttonEl =\n",
              "          document.querySelector('#df-104596b4-9f70-464c-9a41-f9fdcac21a34 button.colab-df-convert');\n",
              "        buttonEl.style.display =\n",
              "          google.colab.kernel.accessAllowed ? 'block' : 'none';\n",
              "\n",
              "        async function convertToInteractive(key) {\n",
              "          const element = document.querySelector('#df-104596b4-9f70-464c-9a41-f9fdcac21a34');\n",
              "          const dataTable =\n",
              "            await google.colab.kernel.invokeFunction('convertToInteractive',\n",
              "                                                     [key], {});\n",
              "          if (!dataTable) return;\n",
              "\n",
              "          const docLinkHtml = 'Like what you see? Visit the ' +\n",
              "            '<a target=\"_blank\" href=https://colab.research.google.com/notebooks/data_table.ipynb>data table notebook</a>'\n",
              "            + ' to learn more about interactive tables.';\n",
              "          element.innerHTML = '';\n",
              "          dataTable['output_type'] = 'display_data';\n",
              "          await google.colab.output.renderOutput(dataTable, element);\n",
              "          const docLink = document.createElement('div');\n",
              "          docLink.innerHTML = docLinkHtml;\n",
              "          element.appendChild(docLink);\n",
              "        }\n",
              "      </script>\n",
              "    </div>\n",
              "  </div>\n",
              "  "
            ]
          },
          "metadata": {},
          "execution_count": 83
        }
      ]
    },
    {
      "cell_type": "markdown",
      "source": [],
      "metadata": {
        "id": "FE59r1Q_kTcn"
      }
    },
    {
      "cell_type": "code",
      "source": [
        "db.shape"
      ],
      "metadata": {
        "colab": {
          "base_uri": "https://localhost:8080/"
        },
        "id": "jDQr3PBgG4_z",
        "outputId": "04f30641-1693-4a7e-f223-3a8a6f647fd4"
      },
      "execution_count": 84,
      "outputs": [
        {
          "output_type": "execute_result",
          "data": {
            "text/plain": [
              "(134529, 112)"
            ]
          },
          "metadata": {},
          "execution_count": 84
        }
      ]
    },
    {
      "cell_type": "code",
      "source": [
        "db.info()"
      ],
      "metadata": {
        "colab": {
          "base_uri": "https://localhost:8080/"
        },
        "id": "c2tXLTV4G6s0",
        "outputId": "5427e2c6-f397-4381-ad0a-41336a81c064"
      },
      "execution_count": 85,
      "outputs": [
        {
          "output_type": "stream",
          "name": "stdout",
          "text": [
            "<class 'pandas.core.frame.DataFrame'>\n",
            "RangeIndex: 134529 entries, 0 to 134528\n",
            "Columns: 112 entries, ReportAsOfEOD to ActiveLateLastPaymentCategory\n",
            "dtypes: bool(3), float64(56), int64(14), object(39)\n",
            "memory usage: 112.3+ MB\n"
          ]
        }
      ]
    },
    {
      "cell_type": "code",
      "source": [
        "db.isnull().sum()"
      ],
      "metadata": {
        "colab": {
          "base_uri": "https://localhost:8080/"
        },
        "id": "NXtnKi4RHUdQ",
        "outputId": "2a69840c-1f90-4d6d-df41-85669fc61288"
      },
      "execution_count": 86,
      "outputs": [
        {
          "output_type": "execute_result",
          "data": {
            "text/plain": [
              "ReportAsOfEOD                              0\n",
              "LoanId                                     0\n",
              "LoanNumber                                 0\n",
              "ListedOnUTC                                0\n",
              "BiddingStartedOn                           0\n",
              "                                       ...  \n",
              "NrOfScheduledPayments                  36741\n",
              "ReScheduledOn                          94207\n",
              "PrincipalDebtServicingCost             75400\n",
              "InterestAndPenaltyDebtServicingCost    75400\n",
              "ActiveLateLastPaymentCategory          82279\n",
              "Length: 112, dtype: int64"
            ]
          },
          "metadata": {},
          "execution_count": 86
        }
      ]
    },
    {
      "cell_type": "markdown",
      "source": [
        "Data cleaning\n",
        "\n",
        "checking percentage pf missing value"
      ],
      "metadata": {
        "id": "f1pDAultiuLG"
      }
    },
    {
      "cell_type": "code",
      "source": [
        "drop_list=db.columns[db.isnull().mean()*100>=50].tolist()"
      ],
      "metadata": {
        "id": "kgadrGfTIr_e"
      },
      "execution_count": 87,
      "outputs": []
    },
    {
      "cell_type": "code",
      "source": [
        "db[drop_list].isnull().mean()*100"
      ],
      "metadata": {
        "colab": {
          "base_uri": "https://localhost:8080/"
        },
        "id": "XZBHW1xLmeXK",
        "outputId": "99682329-baa8-4a38-b909-526a1a7e98b7"
      },
      "execution_count": 88,
      "outputs": [
        {
          "output_type": "execute_result",
          "data": {
            "text/plain": [
              "ContractEndDate                        56.155922\n",
              "NrOfDependants                         73.537304\n",
              "EmploymentPosition                     73.173070\n",
              "WorkExperience                         72.851950\n",
              "PlannedPrincipalTillDate               59.518765\n",
              "CurrentDebtDaysPrimary                 63.934914\n",
              "DebtOccuredOn                          63.934914\n",
              "CurrentDebtDaysSecondary               61.160791\n",
              "DebtOccuredOnForSecondary              61.160791\n",
              "DefaultDate                            68.099815\n",
              "PlannedPrincipalPostDefault            68.099815\n",
              "PlannedInterestPostDefault             68.099815\n",
              "EAD1                                   68.099815\n",
              "EAD2                                   68.099815\n",
              "PrincipalRecovery                      68.099815\n",
              "InterestRecovery                       68.099815\n",
              "EL_V0                                  96.603706\n",
              "Rating_V0                              96.603706\n",
              "EL_V1                                  90.394636\n",
              "Rating_V1                              90.394636\n",
              "Rating_V2                              81.310349\n",
              "ActiveLateCategory                     63.934914\n",
              "CreditScoreEsEquifaxRisk               90.917200\n",
              "CreditScoreFiAsiakasTietoRiskGrade     75.828260\n",
              "PrincipalWriteOffs                     56.047395\n",
              "InterestAndPenaltyWriteOffs            56.047395\n",
              "PreviousEarlyRepaymentsBefoleLoan      56.867293\n",
              "GracePeriodStart                       86.034238\n",
              "GracePeriodEnd                         86.034238\n",
              "NextPaymentDate                        51.204573\n",
              "ReScheduledOn                          70.027280\n",
              "PrincipalDebtServicingCost             56.047395\n",
              "InterestAndPenaltyDebtServicingCost    56.047395\n",
              "ActiveLateLastPaymentCategory          61.160791\n",
              "dtype: float64"
            ]
          },
          "metadata": {},
          "execution_count": 88
        }
      ]
    },
    {
      "cell_type": "code",
      "source": [
        "#now we will drop the columns which contain more than 50% null value\n",
        "db.drop(columns=drop_list,inplace=True)"
      ],
      "metadata": {
        "id": "D-_MWHNyoXIt"
      },
      "execution_count": 89,
      "outputs": []
    },
    {
      "cell_type": "code",
      "source": [
        "db.shape"
      ],
      "metadata": {
        "colab": {
          "base_uri": "https://localhost:8080/"
        },
        "id": "KvTlnWZIpu5j",
        "outputId": "5dab6ffa-91c3-412c-ca7e-b5e328c6675d"
      },
      "execution_count": 90,
      "outputs": [
        {
          "output_type": "execute_result",
          "data": {
            "text/plain": [
              "(134529, 78)"
            ]
          },
          "metadata": {},
          "execution_count": 90
        }
      ]
    },
    {
      "cell_type": "code",
      "source": [
        "db.columns"
      ],
      "metadata": {
        "colab": {
          "base_uri": "https://localhost:8080/"
        },
        "id": "AzhSv3Zkpwql",
        "outputId": "01fdb61d-aaaa-49d4-e82b-a5ebaa5da094"
      },
      "execution_count": 91,
      "outputs": [
        {
          "output_type": "execute_result",
          "data": {
            "text/plain": [
              "Index(['ReportAsOfEOD', 'LoanId', 'LoanNumber', 'ListedOnUTC',\n",
              "       'BiddingStartedOn', 'BidsPortfolioManager', 'BidsApi', 'BidsManual',\n",
              "       'UserName', 'NewCreditCustomer', 'LoanApplicationStartedDate',\n",
              "       'LoanDate', 'FirstPaymentDate', 'MaturityDate_Original',\n",
              "       'MaturityDate_Last', 'ApplicationSignedHour',\n",
              "       'ApplicationSignedWeekday', 'VerificationType', 'LanguageCode', 'Age',\n",
              "       'DateOfBirth', 'Gender', 'Country', 'AppliedAmount', 'Amount',\n",
              "       'Interest', 'LoanDuration', 'MonthlyPayment', 'County', 'City',\n",
              "       'UseOfLoan', 'Education', 'MaritalStatus', 'EmploymentStatus',\n",
              "       'EmploymentDurationCurrentEmployer', 'OccupationArea',\n",
              "       'HomeOwnershipType', 'IncomeFromPrincipalEmployer', 'IncomeFromPension',\n",
              "       'IncomeFromFamilyAllowance', 'IncomeFromSocialWelfare',\n",
              "       'IncomeFromLeavePay', 'IncomeFromChildSupport', 'IncomeOther',\n",
              "       'IncomeTotal', 'ExistingLiabilities', 'LiabilitiesTotal',\n",
              "       'RefinanceLiabilities', 'DebtToIncome', 'FreeCash', 'MonthlyPaymentDay',\n",
              "       'ActiveScheduleFirstPaymentReached', 'PlannedInterestTillDate',\n",
              "       'LastPaymentOn', 'ExpectedLoss', 'LossGivenDefault', 'ExpectedReturn',\n",
              "       'ProbabilityOfDefault', 'PrincipalOverdueBySchedule', 'RecoveryStage',\n",
              "       'StageActiveSince', 'ModelVersion', 'Rating', 'Status', 'Restructured',\n",
              "       'WorseLateCategory', 'CreditScoreEsMicroL', 'CreditScoreEeMini',\n",
              "       'PrincipalPaymentsMade', 'InterestAndPenaltyPaymentsMade',\n",
              "       'PrincipalBalance', 'InterestAndPenaltyBalance',\n",
              "       'NoOfPreviousLoansBeforeLoan', 'AmountOfPreviousLoansBeforeLoan',\n",
              "       'PreviousRepaymentsBeforeLoan',\n",
              "       'PreviousEarlyRepaymentsCountBeforeLoan', 'NextPaymentNr',\n",
              "       'NrOfScheduledPayments'],\n",
              "      dtype='object')"
            ]
          },
          "metadata": {},
          "execution_count": 91
        }
      ]
    },
    {
      "cell_type": "code",
      "source": [
        "db.drop(columns=['DateOfBirth','UserName','LoanId', 'LoanNumber'],inplace=True)"
      ],
      "metadata": {
        "id": "Elqn2gCkqFAf"
      },
      "execution_count": 92,
      "outputs": []
    },
    {
      "cell_type": "code",
      "source": [
        "db.drop(columns=['IncomeFromPrincipalEmployer', 'IncomeFromPension', 'IncomeFromFamilyAllowance', 'IncomeFromSocialWelfare',\n",
        "                 'IncomeFromLeavePay', 'IncomeFromChildSupport', 'IncomeOther'], inplace = True)"
      ],
      "metadata": {
        "id": "0GK6XqHfq1bA"
      },
      "execution_count": 93,
      "outputs": []
    },
    {
      "cell_type": "code",
      "source": [
        "db.columns"
      ],
      "metadata": {
        "colab": {
          "base_uri": "https://localhost:8080/"
        },
        "id": "ykZQ3KXtrYbj",
        "outputId": "87f9d456-2707-481c-8438-4c5b5f0b2d26"
      },
      "execution_count": 94,
      "outputs": [
        {
          "output_type": "execute_result",
          "data": {
            "text/plain": [
              "Index(['ReportAsOfEOD', 'ListedOnUTC', 'BiddingStartedOn',\n",
              "       'BidsPortfolioManager', 'BidsApi', 'BidsManual', 'NewCreditCustomer',\n",
              "       'LoanApplicationStartedDate', 'LoanDate', 'FirstPaymentDate',\n",
              "       'MaturityDate_Original', 'MaturityDate_Last', 'ApplicationSignedHour',\n",
              "       'ApplicationSignedWeekday', 'VerificationType', 'LanguageCode', 'Age',\n",
              "       'Gender', 'Country', 'AppliedAmount', 'Amount', 'Interest',\n",
              "       'LoanDuration', 'MonthlyPayment', 'County', 'City', 'UseOfLoan',\n",
              "       'Education', 'MaritalStatus', 'EmploymentStatus',\n",
              "       'EmploymentDurationCurrentEmployer', 'OccupationArea',\n",
              "       'HomeOwnershipType', 'IncomeTotal', 'ExistingLiabilities',\n",
              "       'LiabilitiesTotal', 'RefinanceLiabilities', 'DebtToIncome', 'FreeCash',\n",
              "       'MonthlyPaymentDay', 'ActiveScheduleFirstPaymentReached',\n",
              "       'PlannedInterestTillDate', 'LastPaymentOn', 'ExpectedLoss',\n",
              "       'LossGivenDefault', 'ExpectedReturn', 'ProbabilityOfDefault',\n",
              "       'PrincipalOverdueBySchedule', 'RecoveryStage', 'StageActiveSince',\n",
              "       'ModelVersion', 'Rating', 'Status', 'Restructured', 'WorseLateCategory',\n",
              "       'CreditScoreEsMicroL', 'CreditScoreEeMini', 'PrincipalPaymentsMade',\n",
              "       'InterestAndPenaltyPaymentsMade', 'PrincipalBalance',\n",
              "       'InterestAndPenaltyBalance', 'NoOfPreviousLoansBeforeLoan',\n",
              "       'AmountOfPreviousLoansBeforeLoan', 'PreviousRepaymentsBeforeLoan',\n",
              "       'PreviousEarlyRepaymentsCountBeforeLoan', 'NextPaymentNr',\n",
              "       'NrOfScheduledPayments'],\n",
              "      dtype='object')"
            ]
          },
          "metadata": {},
          "execution_count": 94
        }
      ]
    },
    {
      "cell_type": "code",
      "source": [
        "db.head()"
      ],
      "metadata": {
        "colab": {
          "base_uri": "https://localhost:8080/",
          "height": 357
        },
        "id": "gq4gyMU1w7P9",
        "outputId": "9abd47b0-45a0-47a2-f3a6-7dd03789eb2e"
      },
      "execution_count": 95,
      "outputs": [
        {
          "output_type": "execute_result",
          "data": {
            "text/plain": [
              "  ReportAsOfEOD          ListedOnUTC     BiddingStartedOn  \\\n",
              "0    2020-01-27  2009-06-11 16:40:39  2009-06-11 16:40:39   \n",
              "1    2020-01-27  2009-06-10 15:48:57  2009-06-10 15:48:57   \n",
              "2    2020-01-27  2009-06-05 19:12:29  2009-06-05 19:12:29   \n",
              "3    2020-01-27  2009-06-13 12:01:20  2009-06-13 12:01:20   \n",
              "4    2020-01-27  2009-06-10 10:17:13  2009-06-10 10:17:13   \n",
              "\n",
              "   BidsPortfolioManager  BidsApi  BidsManual  NewCreditCustomer  \\\n",
              "0                     0        0    115.0410               True   \n",
              "1                     0        0    140.6057              False   \n",
              "2                     0        0    319.5580               True   \n",
              "3                     0        0     57.5205               True   \n",
              "4                     0        0    319.5582               True   \n",
              "\n",
              "  LoanApplicationStartedDate    LoanDate FirstPaymentDate  \\\n",
              "0        2009-06-11 16:40:39  2009-06-16       2009-07-27   \n",
              "1        2009-06-10 15:48:57  2009-06-15       2009-07-15   \n",
              "2        2009-06-05 19:12:29  2009-06-15       2009-07-27   \n",
              "3        2009-06-13 12:01:20  2009-06-15       2009-07-15   \n",
              "4        2009-06-10 10:17:13  2009-06-14       2009-07-27   \n",
              "\n",
              "  MaturityDate_Original MaturityDate_Last  ApplicationSignedHour  \\\n",
              "0            2010-06-25        2010-06-25                     17   \n",
              "1            2009-07-15        2009-07-15                     20   \n",
              "2            2011-02-25        2014-05-13                     20   \n",
              "3            2010-09-15        2010-09-15                     12   \n",
              "4            2010-06-25        2010-06-25                     10   \n",
              "\n",
              "   ApplicationSignedWeekday  VerificationType  LanguageCode  Age  Gender  \\\n",
              "0                         5               2.0             1   61     1.0   \n",
              "1                         4               2.0             1   48     1.0   \n",
              "2                         6               2.0             1   58     1.0   \n",
              "3                         7               2.0             1   23     1.0   \n",
              "4                         4               2.0             1   25     1.0   \n",
              "\n",
              "  Country  AppliedAmount    Amount  Interest  LoanDuration  MonthlyPayment  \\\n",
              "0      EE       319.5582  115.0408      30.0            12             NaN   \n",
              "1      EE       191.7349  140.6057      25.0             1             NaN   \n",
              "2      EE       319.5582  319.5409      25.0            20             NaN   \n",
              "3      EE       127.8233   57.5205      45.0            15             NaN   \n",
              "4      EE       319.5582  319.5436      30.0            12             NaN   \n",
              "\n",
              "     County          City  UseOfLoan  Education  MaritalStatus  \\\n",
              "0     HARJU       TALLINN          7        3.0            1.0   \n",
              "1  IDA-VIRU  KOHTLA-JARVE          7        5.0            4.0   \n",
              "2     PÄRNU         PÄRNU          2        4.0            1.0   \n",
              "3     HARJU      PALDISKI          0        2.0            3.0   \n",
              "4     TARTU         TARTU          6        4.0            2.0   \n",
              "\n",
              "   EmploymentStatus EmploymentDurationCurrentEmployer  OccupationArea  \\\n",
              "0               3.0                        UpTo3Years             7.0   \n",
              "1               3.0                    MoreThan5Years            16.0   \n",
              "2               3.0                        UpTo4Years             9.0   \n",
              "3               NaN                        UpTo2Years             1.0   \n",
              "4               3.0                        UpTo2Years             7.0   \n",
              "\n",
              "   HomeOwnershipType  IncomeTotal  ExistingLiabilities  LiabilitiesTotal  \\\n",
              "0                NaN      10500.0                    0               0.0   \n",
              "1                NaN      10800.0                    0               0.0   \n",
              "2                NaN       7000.0                    0               0.0   \n",
              "3                NaN      11600.0                    0               0.0   \n",
              "4                NaN       6800.0                    0               0.0   \n",
              "\n",
              "   RefinanceLiabilities  DebtToIncome  FreeCash  MonthlyPaymentDay  \\\n",
              "0                     0           0.0       0.0                 25   \n",
              "1                     0           0.0       0.0                 15   \n",
              "2                     0           0.0       0.0                 25   \n",
              "3                     0           0.0       0.0                 15   \n",
              "4                     0           0.0       0.0                 25   \n",
              "\n",
              "   ActiveScheduleFirstPaymentReached  PlannedInterestTillDate LastPaymentOn  \\\n",
              "0                               True                 319.0800    2010-07-06   \n",
              "1                               True                  45.8300    2009-07-07   \n",
              "2                               True                 197.2926    2012-10-01   \n",
              "3                               True                 293.1000    2010-09-15   \n",
              "4                               True                 833.8100    2015-07-16   \n",
              "\n",
              "   ExpectedLoss  LossGivenDefault  ExpectedReturn  ProbabilityOfDefault  \\\n",
              "0           NaN               NaN             NaN                   NaN   \n",
              "1           NaN               NaN             NaN                   NaN   \n",
              "2           NaN               NaN             NaN                   NaN   \n",
              "3           NaN               NaN             NaN                   NaN   \n",
              "4           NaN               NaN             NaN                   NaN   \n",
              "\n",
              "   PrincipalOverdueBySchedule  RecoveryStage     StageActiveSince  \\\n",
              "0                         NaN            NaN                  NaN   \n",
              "1                         NaN            NaN                  NaN   \n",
              "2                      116.35            NaN  2016-03-03 00:00:00   \n",
              "3                         NaN            NaN                  NaN   \n",
              "4                         NaN            NaN                  NaN   \n",
              "\n",
              "   ModelVersion Rating  Status  Restructured WorseLateCategory  \\\n",
              "0           NaN    NaN  Repaid         False            91-120   \n",
              "1           NaN    NaN  Repaid         False               NaN   \n",
              "2           NaN    NaN    Late          True              180+   \n",
              "3           NaN    NaN  Repaid         False             31-60   \n",
              "4           NaN    NaN  Repaid         False              180+   \n",
              "\n",
              "  CreditScoreEsMicroL  CreditScoreEeMini  PrincipalPaymentsMade  \\\n",
              "0                 NaN                NaN               115.0408   \n",
              "1                 NaN                NaN               140.6057   \n",
              "2                 NaN                NaN               203.1909   \n",
              "3                 NaN                NaN                57.5205   \n",
              "4                 NaN                NaN               319.5436   \n",
              "\n",
              "   InterestAndPenaltyPaymentsMade  PrincipalBalance  \\\n",
              "0                         20.4222              0.00   \n",
              "1                          2.0227              0.00   \n",
              "2                         59.7626            116.35   \n",
              "3                         18.7323              0.00   \n",
              "4                        220.4200              0.00   \n",
              "\n",
              "   InterestAndPenaltyBalance  NoOfPreviousLoansBeforeLoan  \\\n",
              "0                       0.00                            1   \n",
              "1                       0.00                            2   \n",
              "2                     414.07                            0   \n",
              "3                       0.00                            1   \n",
              "4                       0.00                            1   \n",
              "\n",
              "   AmountOfPreviousLoansBeforeLoan  PreviousRepaymentsBeforeLoan  \\\n",
              "0                          83.0852                        0.0000   \n",
              "1                         255.6467                      258.6256   \n",
              "2                           0.0000                        0.0000   \n",
              "3                         134.2144                        0.0000   \n",
              "4                         146.9966                        0.0000   \n",
              "\n",
              "   PreviousEarlyRepaymentsCountBeforeLoan  NextPaymentNr  \\\n",
              "0                                       0            NaN   \n",
              "1                                       0            NaN   \n",
              "2                                       0            NaN   \n",
              "3                                       0            NaN   \n",
              "4                                       0            NaN   \n",
              "\n",
              "   NrOfScheduledPayments  \n",
              "0                    NaN  \n",
              "1                    NaN  \n",
              "2                    NaN  \n",
              "3                    NaN  \n",
              "4                    NaN  "
            ],
            "text/html": [
              "\n",
              "  <div id=\"df-a97107f2-cb20-4c1f-a9eb-9e0d9e24f06a\">\n",
              "    <div class=\"colab-df-container\">\n",
              "      <div>\n",
              "<style scoped>\n",
              "    .dataframe tbody tr th:only-of-type {\n",
              "        vertical-align: middle;\n",
              "    }\n",
              "\n",
              "    .dataframe tbody tr th {\n",
              "        vertical-align: top;\n",
              "    }\n",
              "\n",
              "    .dataframe thead th {\n",
              "        text-align: right;\n",
              "    }\n",
              "</style>\n",
              "<table border=\"1\" class=\"dataframe\">\n",
              "  <thead>\n",
              "    <tr style=\"text-align: right;\">\n",
              "      <th></th>\n",
              "      <th>ReportAsOfEOD</th>\n",
              "      <th>ListedOnUTC</th>\n",
              "      <th>BiddingStartedOn</th>\n",
              "      <th>BidsPortfolioManager</th>\n",
              "      <th>BidsApi</th>\n",
              "      <th>BidsManual</th>\n",
              "      <th>NewCreditCustomer</th>\n",
              "      <th>LoanApplicationStartedDate</th>\n",
              "      <th>LoanDate</th>\n",
              "      <th>FirstPaymentDate</th>\n",
              "      <th>MaturityDate_Original</th>\n",
              "      <th>MaturityDate_Last</th>\n",
              "      <th>ApplicationSignedHour</th>\n",
              "      <th>ApplicationSignedWeekday</th>\n",
              "      <th>VerificationType</th>\n",
              "      <th>LanguageCode</th>\n",
              "      <th>Age</th>\n",
              "      <th>Gender</th>\n",
              "      <th>Country</th>\n",
              "      <th>AppliedAmount</th>\n",
              "      <th>Amount</th>\n",
              "      <th>Interest</th>\n",
              "      <th>LoanDuration</th>\n",
              "      <th>MonthlyPayment</th>\n",
              "      <th>County</th>\n",
              "      <th>City</th>\n",
              "      <th>UseOfLoan</th>\n",
              "      <th>Education</th>\n",
              "      <th>MaritalStatus</th>\n",
              "      <th>EmploymentStatus</th>\n",
              "      <th>EmploymentDurationCurrentEmployer</th>\n",
              "      <th>OccupationArea</th>\n",
              "      <th>HomeOwnershipType</th>\n",
              "      <th>IncomeTotal</th>\n",
              "      <th>ExistingLiabilities</th>\n",
              "      <th>LiabilitiesTotal</th>\n",
              "      <th>RefinanceLiabilities</th>\n",
              "      <th>DebtToIncome</th>\n",
              "      <th>FreeCash</th>\n",
              "      <th>MonthlyPaymentDay</th>\n",
              "      <th>ActiveScheduleFirstPaymentReached</th>\n",
              "      <th>PlannedInterestTillDate</th>\n",
              "      <th>LastPaymentOn</th>\n",
              "      <th>ExpectedLoss</th>\n",
              "      <th>LossGivenDefault</th>\n",
              "      <th>ExpectedReturn</th>\n",
              "      <th>ProbabilityOfDefault</th>\n",
              "      <th>PrincipalOverdueBySchedule</th>\n",
              "      <th>RecoveryStage</th>\n",
              "      <th>StageActiveSince</th>\n",
              "      <th>ModelVersion</th>\n",
              "      <th>Rating</th>\n",
              "      <th>Status</th>\n",
              "      <th>Restructured</th>\n",
              "      <th>WorseLateCategory</th>\n",
              "      <th>CreditScoreEsMicroL</th>\n",
              "      <th>CreditScoreEeMini</th>\n",
              "      <th>PrincipalPaymentsMade</th>\n",
              "      <th>InterestAndPenaltyPaymentsMade</th>\n",
              "      <th>PrincipalBalance</th>\n",
              "      <th>InterestAndPenaltyBalance</th>\n",
              "      <th>NoOfPreviousLoansBeforeLoan</th>\n",
              "      <th>AmountOfPreviousLoansBeforeLoan</th>\n",
              "      <th>PreviousRepaymentsBeforeLoan</th>\n",
              "      <th>PreviousEarlyRepaymentsCountBeforeLoan</th>\n",
              "      <th>NextPaymentNr</th>\n",
              "      <th>NrOfScheduledPayments</th>\n",
              "    </tr>\n",
              "  </thead>\n",
              "  <tbody>\n",
              "    <tr>\n",
              "      <th>0</th>\n",
              "      <td>2020-01-27</td>\n",
              "      <td>2009-06-11 16:40:39</td>\n",
              "      <td>2009-06-11 16:40:39</td>\n",
              "      <td>0</td>\n",
              "      <td>0</td>\n",
              "      <td>115.0410</td>\n",
              "      <td>True</td>\n",
              "      <td>2009-06-11 16:40:39</td>\n",
              "      <td>2009-06-16</td>\n",
              "      <td>2009-07-27</td>\n",
              "      <td>2010-06-25</td>\n",
              "      <td>2010-06-25</td>\n",
              "      <td>17</td>\n",
              "      <td>5</td>\n",
              "      <td>2.0</td>\n",
              "      <td>1</td>\n",
              "      <td>61</td>\n",
              "      <td>1.0</td>\n",
              "      <td>EE</td>\n",
              "      <td>319.5582</td>\n",
              "      <td>115.0408</td>\n",
              "      <td>30.0</td>\n",
              "      <td>12</td>\n",
              "      <td>NaN</td>\n",
              "      <td>HARJU</td>\n",
              "      <td>TALLINN</td>\n",
              "      <td>7</td>\n",
              "      <td>3.0</td>\n",
              "      <td>1.0</td>\n",
              "      <td>3.0</td>\n",
              "      <td>UpTo3Years</td>\n",
              "      <td>7.0</td>\n",
              "      <td>NaN</td>\n",
              "      <td>10500.0</td>\n",
              "      <td>0</td>\n",
              "      <td>0.0</td>\n",
              "      <td>0</td>\n",
              "      <td>0.0</td>\n",
              "      <td>0.0</td>\n",
              "      <td>25</td>\n",
              "      <td>True</td>\n",
              "      <td>319.0800</td>\n",
              "      <td>2010-07-06</td>\n",
              "      <td>NaN</td>\n",
              "      <td>NaN</td>\n",
              "      <td>NaN</td>\n",
              "      <td>NaN</td>\n",
              "      <td>NaN</td>\n",
              "      <td>NaN</td>\n",
              "      <td>NaN</td>\n",
              "      <td>NaN</td>\n",
              "      <td>NaN</td>\n",
              "      <td>Repaid</td>\n",
              "      <td>False</td>\n",
              "      <td>91-120</td>\n",
              "      <td>NaN</td>\n",
              "      <td>NaN</td>\n",
              "      <td>115.0408</td>\n",
              "      <td>20.4222</td>\n",
              "      <td>0.00</td>\n",
              "      <td>0.00</td>\n",
              "      <td>1</td>\n",
              "      <td>83.0852</td>\n",
              "      <td>0.0000</td>\n",
              "      <td>0</td>\n",
              "      <td>NaN</td>\n",
              "      <td>NaN</td>\n",
              "    </tr>\n",
              "    <tr>\n",
              "      <th>1</th>\n",
              "      <td>2020-01-27</td>\n",
              "      <td>2009-06-10 15:48:57</td>\n",
              "      <td>2009-06-10 15:48:57</td>\n",
              "      <td>0</td>\n",
              "      <td>0</td>\n",
              "      <td>140.6057</td>\n",
              "      <td>False</td>\n",
              "      <td>2009-06-10 15:48:57</td>\n",
              "      <td>2009-06-15</td>\n",
              "      <td>2009-07-15</td>\n",
              "      <td>2009-07-15</td>\n",
              "      <td>2009-07-15</td>\n",
              "      <td>20</td>\n",
              "      <td>4</td>\n",
              "      <td>2.0</td>\n",
              "      <td>1</td>\n",
              "      <td>48</td>\n",
              "      <td>1.0</td>\n",
              "      <td>EE</td>\n",
              "      <td>191.7349</td>\n",
              "      <td>140.6057</td>\n",
              "      <td>25.0</td>\n",
              "      <td>1</td>\n",
              "      <td>NaN</td>\n",
              "      <td>IDA-VIRU</td>\n",
              "      <td>KOHTLA-JARVE</td>\n",
              "      <td>7</td>\n",
              "      <td>5.0</td>\n",
              "      <td>4.0</td>\n",
              "      <td>3.0</td>\n",
              "      <td>MoreThan5Years</td>\n",
              "      <td>16.0</td>\n",
              "      <td>NaN</td>\n",
              "      <td>10800.0</td>\n",
              "      <td>0</td>\n",
              "      <td>0.0</td>\n",
              "      <td>0</td>\n",
              "      <td>0.0</td>\n",
              "      <td>0.0</td>\n",
              "      <td>15</td>\n",
              "      <td>True</td>\n",
              "      <td>45.8300</td>\n",
              "      <td>2009-07-07</td>\n",
              "      <td>NaN</td>\n",
              "      <td>NaN</td>\n",
              "      <td>NaN</td>\n",
              "      <td>NaN</td>\n",
              "      <td>NaN</td>\n",
              "      <td>NaN</td>\n",
              "      <td>NaN</td>\n",
              "      <td>NaN</td>\n",
              "      <td>NaN</td>\n",
              "      <td>Repaid</td>\n",
              "      <td>False</td>\n",
              "      <td>NaN</td>\n",
              "      <td>NaN</td>\n",
              "      <td>NaN</td>\n",
              "      <td>140.6057</td>\n",
              "      <td>2.0227</td>\n",
              "      <td>0.00</td>\n",
              "      <td>0.00</td>\n",
              "      <td>2</td>\n",
              "      <td>255.6467</td>\n",
              "      <td>258.6256</td>\n",
              "      <td>0</td>\n",
              "      <td>NaN</td>\n",
              "      <td>NaN</td>\n",
              "    </tr>\n",
              "    <tr>\n",
              "      <th>2</th>\n",
              "      <td>2020-01-27</td>\n",
              "      <td>2009-06-05 19:12:29</td>\n",
              "      <td>2009-06-05 19:12:29</td>\n",
              "      <td>0</td>\n",
              "      <td>0</td>\n",
              "      <td>319.5580</td>\n",
              "      <td>True</td>\n",
              "      <td>2009-06-05 19:12:29</td>\n",
              "      <td>2009-06-15</td>\n",
              "      <td>2009-07-27</td>\n",
              "      <td>2011-02-25</td>\n",
              "      <td>2014-05-13</td>\n",
              "      <td>20</td>\n",
              "      <td>6</td>\n",
              "      <td>2.0</td>\n",
              "      <td>1</td>\n",
              "      <td>58</td>\n",
              "      <td>1.0</td>\n",
              "      <td>EE</td>\n",
              "      <td>319.5582</td>\n",
              "      <td>319.5409</td>\n",
              "      <td>25.0</td>\n",
              "      <td>20</td>\n",
              "      <td>NaN</td>\n",
              "      <td>PÄRNU</td>\n",
              "      <td>PÄRNU</td>\n",
              "      <td>2</td>\n",
              "      <td>4.0</td>\n",
              "      <td>1.0</td>\n",
              "      <td>3.0</td>\n",
              "      <td>UpTo4Years</td>\n",
              "      <td>9.0</td>\n",
              "      <td>NaN</td>\n",
              "      <td>7000.0</td>\n",
              "      <td>0</td>\n",
              "      <td>0.0</td>\n",
              "      <td>0</td>\n",
              "      <td>0.0</td>\n",
              "      <td>0.0</td>\n",
              "      <td>25</td>\n",
              "      <td>True</td>\n",
              "      <td>197.2926</td>\n",
              "      <td>2012-10-01</td>\n",
              "      <td>NaN</td>\n",
              "      <td>NaN</td>\n",
              "      <td>NaN</td>\n",
              "      <td>NaN</td>\n",
              "      <td>116.35</td>\n",
              "      <td>NaN</td>\n",
              "      <td>2016-03-03 00:00:00</td>\n",
              "      <td>NaN</td>\n",
              "      <td>NaN</td>\n",
              "      <td>Late</td>\n",
              "      <td>True</td>\n",
              "      <td>180+</td>\n",
              "      <td>NaN</td>\n",
              "      <td>NaN</td>\n",
              "      <td>203.1909</td>\n",
              "      <td>59.7626</td>\n",
              "      <td>116.35</td>\n",
              "      <td>414.07</td>\n",
              "      <td>0</td>\n",
              "      <td>0.0000</td>\n",
              "      <td>0.0000</td>\n",
              "      <td>0</td>\n",
              "      <td>NaN</td>\n",
              "      <td>NaN</td>\n",
              "    </tr>\n",
              "    <tr>\n",
              "      <th>3</th>\n",
              "      <td>2020-01-27</td>\n",
              "      <td>2009-06-13 12:01:20</td>\n",
              "      <td>2009-06-13 12:01:20</td>\n",
              "      <td>0</td>\n",
              "      <td>0</td>\n",
              "      <td>57.5205</td>\n",
              "      <td>True</td>\n",
              "      <td>2009-06-13 12:01:20</td>\n",
              "      <td>2009-06-15</td>\n",
              "      <td>2009-07-15</td>\n",
              "      <td>2010-09-15</td>\n",
              "      <td>2010-09-15</td>\n",
              "      <td>12</td>\n",
              "      <td>7</td>\n",
              "      <td>2.0</td>\n",
              "      <td>1</td>\n",
              "      <td>23</td>\n",
              "      <td>1.0</td>\n",
              "      <td>EE</td>\n",
              "      <td>127.8233</td>\n",
              "      <td>57.5205</td>\n",
              "      <td>45.0</td>\n",
              "      <td>15</td>\n",
              "      <td>NaN</td>\n",
              "      <td>HARJU</td>\n",
              "      <td>PALDISKI</td>\n",
              "      <td>0</td>\n",
              "      <td>2.0</td>\n",
              "      <td>3.0</td>\n",
              "      <td>NaN</td>\n",
              "      <td>UpTo2Years</td>\n",
              "      <td>1.0</td>\n",
              "      <td>NaN</td>\n",
              "      <td>11600.0</td>\n",
              "      <td>0</td>\n",
              "      <td>0.0</td>\n",
              "      <td>0</td>\n",
              "      <td>0.0</td>\n",
              "      <td>0.0</td>\n",
              "      <td>15</td>\n",
              "      <td>True</td>\n",
              "      <td>293.1000</td>\n",
              "      <td>2010-09-15</td>\n",
              "      <td>NaN</td>\n",
              "      <td>NaN</td>\n",
              "      <td>NaN</td>\n",
              "      <td>NaN</td>\n",
              "      <td>NaN</td>\n",
              "      <td>NaN</td>\n",
              "      <td>NaN</td>\n",
              "      <td>NaN</td>\n",
              "      <td>NaN</td>\n",
              "      <td>Repaid</td>\n",
              "      <td>False</td>\n",
              "      <td>31-60</td>\n",
              "      <td>NaN</td>\n",
              "      <td>NaN</td>\n",
              "      <td>57.5205</td>\n",
              "      <td>18.7323</td>\n",
              "      <td>0.00</td>\n",
              "      <td>0.00</td>\n",
              "      <td>1</td>\n",
              "      <td>134.2144</td>\n",
              "      <td>0.0000</td>\n",
              "      <td>0</td>\n",
              "      <td>NaN</td>\n",
              "      <td>NaN</td>\n",
              "    </tr>\n",
              "    <tr>\n",
              "      <th>4</th>\n",
              "      <td>2020-01-27</td>\n",
              "      <td>2009-06-10 10:17:13</td>\n",
              "      <td>2009-06-10 10:17:13</td>\n",
              "      <td>0</td>\n",
              "      <td>0</td>\n",
              "      <td>319.5582</td>\n",
              "      <td>True</td>\n",
              "      <td>2009-06-10 10:17:13</td>\n",
              "      <td>2009-06-14</td>\n",
              "      <td>2009-07-27</td>\n",
              "      <td>2010-06-25</td>\n",
              "      <td>2010-06-25</td>\n",
              "      <td>10</td>\n",
              "      <td>4</td>\n",
              "      <td>2.0</td>\n",
              "      <td>1</td>\n",
              "      <td>25</td>\n",
              "      <td>1.0</td>\n",
              "      <td>EE</td>\n",
              "      <td>319.5582</td>\n",
              "      <td>319.5436</td>\n",
              "      <td>30.0</td>\n",
              "      <td>12</td>\n",
              "      <td>NaN</td>\n",
              "      <td>TARTU</td>\n",
              "      <td>TARTU</td>\n",
              "      <td>6</td>\n",
              "      <td>4.0</td>\n",
              "      <td>2.0</td>\n",
              "      <td>3.0</td>\n",
              "      <td>UpTo2Years</td>\n",
              "      <td>7.0</td>\n",
              "      <td>NaN</td>\n",
              "      <td>6800.0</td>\n",
              "      <td>0</td>\n",
              "      <td>0.0</td>\n",
              "      <td>0</td>\n",
              "      <td>0.0</td>\n",
              "      <td>0.0</td>\n",
              "      <td>25</td>\n",
              "      <td>True</td>\n",
              "      <td>833.8100</td>\n",
              "      <td>2015-07-16</td>\n",
              "      <td>NaN</td>\n",
              "      <td>NaN</td>\n",
              "      <td>NaN</td>\n",
              "      <td>NaN</td>\n",
              "      <td>NaN</td>\n",
              "      <td>NaN</td>\n",
              "      <td>NaN</td>\n",
              "      <td>NaN</td>\n",
              "      <td>NaN</td>\n",
              "      <td>Repaid</td>\n",
              "      <td>False</td>\n",
              "      <td>180+</td>\n",
              "      <td>NaN</td>\n",
              "      <td>NaN</td>\n",
              "      <td>319.5436</td>\n",
              "      <td>220.4200</td>\n",
              "      <td>0.00</td>\n",
              "      <td>0.00</td>\n",
              "      <td>1</td>\n",
              "      <td>146.9966</td>\n",
              "      <td>0.0000</td>\n",
              "      <td>0</td>\n",
              "      <td>NaN</td>\n",
              "      <td>NaN</td>\n",
              "    </tr>\n",
              "  </tbody>\n",
              "</table>\n",
              "</div>\n",
              "      <button class=\"colab-df-convert\" onclick=\"convertToInteractive('df-a97107f2-cb20-4c1f-a9eb-9e0d9e24f06a')\"\n",
              "              title=\"Convert this dataframe to an interactive table.\"\n",
              "              style=\"display:none;\">\n",
              "        \n",
              "  <svg xmlns=\"http://www.w3.org/2000/svg\" height=\"24px\"viewBox=\"0 0 24 24\"\n",
              "       width=\"24px\">\n",
              "    <path d=\"M0 0h24v24H0V0z\" fill=\"none\"/>\n",
              "    <path d=\"M18.56 5.44l.94 2.06.94-2.06 2.06-.94-2.06-.94-.94-2.06-.94 2.06-2.06.94zm-11 1L8.5 8.5l.94-2.06 2.06-.94-2.06-.94L8.5 2.5l-.94 2.06-2.06.94zm10 10l.94 2.06.94-2.06 2.06-.94-2.06-.94-.94-2.06-.94 2.06-2.06.94z\"/><path d=\"M17.41 7.96l-1.37-1.37c-.4-.4-.92-.59-1.43-.59-.52 0-1.04.2-1.43.59L10.3 9.45l-7.72 7.72c-.78.78-.78 2.05 0 2.83L4 21.41c.39.39.9.59 1.41.59.51 0 1.02-.2 1.41-.59l7.78-7.78 2.81-2.81c.8-.78.8-2.07 0-2.86zM5.41 20L4 18.59l7.72-7.72 1.47 1.35L5.41 20z\"/>\n",
              "  </svg>\n",
              "      </button>\n",
              "      \n",
              "  <style>\n",
              "    .colab-df-container {\n",
              "      display:flex;\n",
              "      flex-wrap:wrap;\n",
              "      gap: 12px;\n",
              "    }\n",
              "\n",
              "    .colab-df-convert {\n",
              "      background-color: #E8F0FE;\n",
              "      border: none;\n",
              "      border-radius: 50%;\n",
              "      cursor: pointer;\n",
              "      display: none;\n",
              "      fill: #1967D2;\n",
              "      height: 32px;\n",
              "      padding: 0 0 0 0;\n",
              "      width: 32px;\n",
              "    }\n",
              "\n",
              "    .colab-df-convert:hover {\n",
              "      background-color: #E2EBFA;\n",
              "      box-shadow: 0px 1px 2px rgba(60, 64, 67, 0.3), 0px 1px 3px 1px rgba(60, 64, 67, 0.15);\n",
              "      fill: #174EA6;\n",
              "    }\n",
              "\n",
              "    [theme=dark] .colab-df-convert {\n",
              "      background-color: #3B4455;\n",
              "      fill: #D2E3FC;\n",
              "    }\n",
              "\n",
              "    [theme=dark] .colab-df-convert:hover {\n",
              "      background-color: #434B5C;\n",
              "      box-shadow: 0px 1px 3px 1px rgba(0, 0, 0, 0.15);\n",
              "      filter: drop-shadow(0px 1px 2px rgba(0, 0, 0, 0.3));\n",
              "      fill: #FFFFFF;\n",
              "    }\n",
              "  </style>\n",
              "\n",
              "      <script>\n",
              "        const buttonEl =\n",
              "          document.querySelector('#df-a97107f2-cb20-4c1f-a9eb-9e0d9e24f06a button.colab-df-convert');\n",
              "        buttonEl.style.display =\n",
              "          google.colab.kernel.accessAllowed ? 'block' : 'none';\n",
              "\n",
              "        async function convertToInteractive(key) {\n",
              "          const element = document.querySelector('#df-a97107f2-cb20-4c1f-a9eb-9e0d9e24f06a');\n",
              "          const dataTable =\n",
              "            await google.colab.kernel.invokeFunction('convertToInteractive',\n",
              "                                                     [key], {});\n",
              "          if (!dataTable) return;\n",
              "\n",
              "          const docLinkHtml = 'Like what you see? Visit the ' +\n",
              "            '<a target=\"_blank\" href=https://colab.research.google.com/notebooks/data_table.ipynb>data table notebook</a>'\n",
              "            + ' to learn more about interactive tables.';\n",
              "          element.innerHTML = '';\n",
              "          dataTable['output_type'] = 'display_data';\n",
              "          await google.colab.output.renderOutput(dataTable, element);\n",
              "          const docLink = document.createElement('div');\n",
              "          docLink.innerHTML = docLinkHtml;\n",
              "          element.appendChild(docLink);\n",
              "        }\n",
              "      </script>\n",
              "    </div>\n",
              "  </div>\n",
              "  "
            ]
          },
          "metadata": {},
          "execution_count": 95
        }
      ]
    },
    {
      "cell_type": "code",
      "source": [
        "#deleting date features\n",
        "db.drop(columns=['ReportAsOfEOD', 'ListedOnUTC', 'BiddingStartedOn', 'LoanApplicationStartedDate', 'LastPaymentOn',\n",
        "                 'MonthlyPaymentDay','LoanDate', 'FirstPaymentDate', 'MaturityDate_Original','MaturityDate_Last'], \n",
        "        inplace = True)"
      ],
      "metadata": {
        "id": "g1F2fklS0o06"
      },
      "execution_count": 96,
      "outputs": []
    },
    {
      "cell_type": "code",
      "source": [
        "db.drop(columns=['NextPaymentNr', 'NrOfScheduledPayments', 'ApplicationSignedHour', 'ApplicationSignedWeekday', \n",
        "                 'ActiveScheduleFirstPaymentReached', 'PlannedInterestTillDate', 'ExpectedLoss','LossGivenDefault',\n",
        "                'ExpectedReturn', 'ProbabilityOfDefault', 'PrincipalOverdueBySchedule', 'StageActiveSince', \n",
        "                'ModelVersion', 'WorseLateCategory'], inplace = True)"
      ],
      "metadata": {
        "id": "5I46rsoH4RcJ"
      },
      "execution_count": 97,
      "outputs": []
    },
    {
      "cell_type": "code",
      "source": [
        "db.head()"
      ],
      "metadata": {
        "colab": {
          "base_uri": "https://localhost:8080/",
          "height": 287
        },
        "id": "e6yT93AD4tH9",
        "outputId": "a65124bb-16f4-4bda-af44-22c6c3114a5d"
      },
      "execution_count": 98,
      "outputs": [
        {
          "output_type": "execute_result",
          "data": {
            "text/plain": [
              "   BidsPortfolioManager  BidsApi  BidsManual  NewCreditCustomer  \\\n",
              "0                     0        0    115.0410               True   \n",
              "1                     0        0    140.6057              False   \n",
              "2                     0        0    319.5580               True   \n",
              "3                     0        0     57.5205               True   \n",
              "4                     0        0    319.5582               True   \n",
              "\n",
              "   VerificationType  LanguageCode  Age  Gender Country  AppliedAmount  \\\n",
              "0               2.0             1   61     1.0      EE       319.5582   \n",
              "1               2.0             1   48     1.0      EE       191.7349   \n",
              "2               2.0             1   58     1.0      EE       319.5582   \n",
              "3               2.0             1   23     1.0      EE       127.8233   \n",
              "4               2.0             1   25     1.0      EE       319.5582   \n",
              "\n",
              "     Amount  Interest  LoanDuration  MonthlyPayment    County          City  \\\n",
              "0  115.0408      30.0            12             NaN     HARJU       TALLINN   \n",
              "1  140.6057      25.0             1             NaN  IDA-VIRU  KOHTLA-JARVE   \n",
              "2  319.5409      25.0            20             NaN     PÄRNU         PÄRNU   \n",
              "3   57.5205      45.0            15             NaN     HARJU      PALDISKI   \n",
              "4  319.5436      30.0            12             NaN     TARTU         TARTU   \n",
              "\n",
              "   UseOfLoan  Education  MaritalStatus  EmploymentStatus  \\\n",
              "0          7        3.0            1.0               3.0   \n",
              "1          7        5.0            4.0               3.0   \n",
              "2          2        4.0            1.0               3.0   \n",
              "3          0        2.0            3.0               NaN   \n",
              "4          6        4.0            2.0               3.0   \n",
              "\n",
              "  EmploymentDurationCurrentEmployer  OccupationArea  HomeOwnershipType  \\\n",
              "0                        UpTo3Years             7.0                NaN   \n",
              "1                    MoreThan5Years            16.0                NaN   \n",
              "2                        UpTo4Years             9.0                NaN   \n",
              "3                        UpTo2Years             1.0                NaN   \n",
              "4                        UpTo2Years             7.0                NaN   \n",
              "\n",
              "   IncomeTotal  ExistingLiabilities  LiabilitiesTotal  RefinanceLiabilities  \\\n",
              "0      10500.0                    0               0.0                     0   \n",
              "1      10800.0                    0               0.0                     0   \n",
              "2       7000.0                    0               0.0                     0   \n",
              "3      11600.0                    0               0.0                     0   \n",
              "4       6800.0                    0               0.0                     0   \n",
              "\n",
              "   DebtToIncome  FreeCash  RecoveryStage Rating  Status  Restructured  \\\n",
              "0           0.0       0.0            NaN    NaN  Repaid         False   \n",
              "1           0.0       0.0            NaN    NaN  Repaid         False   \n",
              "2           0.0       0.0            NaN    NaN    Late          True   \n",
              "3           0.0       0.0            NaN    NaN  Repaid         False   \n",
              "4           0.0       0.0            NaN    NaN  Repaid         False   \n",
              "\n",
              "  CreditScoreEsMicroL  CreditScoreEeMini  PrincipalPaymentsMade  \\\n",
              "0                 NaN                NaN               115.0408   \n",
              "1                 NaN                NaN               140.6057   \n",
              "2                 NaN                NaN               203.1909   \n",
              "3                 NaN                NaN                57.5205   \n",
              "4                 NaN                NaN               319.5436   \n",
              "\n",
              "   InterestAndPenaltyPaymentsMade  PrincipalBalance  \\\n",
              "0                         20.4222              0.00   \n",
              "1                          2.0227              0.00   \n",
              "2                         59.7626            116.35   \n",
              "3                         18.7323              0.00   \n",
              "4                        220.4200              0.00   \n",
              "\n",
              "   InterestAndPenaltyBalance  NoOfPreviousLoansBeforeLoan  \\\n",
              "0                       0.00                            1   \n",
              "1                       0.00                            2   \n",
              "2                     414.07                            0   \n",
              "3                       0.00                            1   \n",
              "4                       0.00                            1   \n",
              "\n",
              "   AmountOfPreviousLoansBeforeLoan  PreviousRepaymentsBeforeLoan  \\\n",
              "0                          83.0852                        0.0000   \n",
              "1                         255.6467                      258.6256   \n",
              "2                           0.0000                        0.0000   \n",
              "3                         134.2144                        0.0000   \n",
              "4                         146.9966                        0.0000   \n",
              "\n",
              "   PreviousEarlyRepaymentsCountBeforeLoan  \n",
              "0                                       0  \n",
              "1                                       0  \n",
              "2                                       0  \n",
              "3                                       0  \n",
              "4                                       0  "
            ],
            "text/html": [
              "\n",
              "  <div id=\"df-5b472b79-aaf4-4170-9230-ed1eb8879030\">\n",
              "    <div class=\"colab-df-container\">\n",
              "      <div>\n",
              "<style scoped>\n",
              "    .dataframe tbody tr th:only-of-type {\n",
              "        vertical-align: middle;\n",
              "    }\n",
              "\n",
              "    .dataframe tbody tr th {\n",
              "        vertical-align: top;\n",
              "    }\n",
              "\n",
              "    .dataframe thead th {\n",
              "        text-align: right;\n",
              "    }\n",
              "</style>\n",
              "<table border=\"1\" class=\"dataframe\">\n",
              "  <thead>\n",
              "    <tr style=\"text-align: right;\">\n",
              "      <th></th>\n",
              "      <th>BidsPortfolioManager</th>\n",
              "      <th>BidsApi</th>\n",
              "      <th>BidsManual</th>\n",
              "      <th>NewCreditCustomer</th>\n",
              "      <th>VerificationType</th>\n",
              "      <th>LanguageCode</th>\n",
              "      <th>Age</th>\n",
              "      <th>Gender</th>\n",
              "      <th>Country</th>\n",
              "      <th>AppliedAmount</th>\n",
              "      <th>Amount</th>\n",
              "      <th>Interest</th>\n",
              "      <th>LoanDuration</th>\n",
              "      <th>MonthlyPayment</th>\n",
              "      <th>County</th>\n",
              "      <th>City</th>\n",
              "      <th>UseOfLoan</th>\n",
              "      <th>Education</th>\n",
              "      <th>MaritalStatus</th>\n",
              "      <th>EmploymentStatus</th>\n",
              "      <th>EmploymentDurationCurrentEmployer</th>\n",
              "      <th>OccupationArea</th>\n",
              "      <th>HomeOwnershipType</th>\n",
              "      <th>IncomeTotal</th>\n",
              "      <th>ExistingLiabilities</th>\n",
              "      <th>LiabilitiesTotal</th>\n",
              "      <th>RefinanceLiabilities</th>\n",
              "      <th>DebtToIncome</th>\n",
              "      <th>FreeCash</th>\n",
              "      <th>RecoveryStage</th>\n",
              "      <th>Rating</th>\n",
              "      <th>Status</th>\n",
              "      <th>Restructured</th>\n",
              "      <th>CreditScoreEsMicroL</th>\n",
              "      <th>CreditScoreEeMini</th>\n",
              "      <th>PrincipalPaymentsMade</th>\n",
              "      <th>InterestAndPenaltyPaymentsMade</th>\n",
              "      <th>PrincipalBalance</th>\n",
              "      <th>InterestAndPenaltyBalance</th>\n",
              "      <th>NoOfPreviousLoansBeforeLoan</th>\n",
              "      <th>AmountOfPreviousLoansBeforeLoan</th>\n",
              "      <th>PreviousRepaymentsBeforeLoan</th>\n",
              "      <th>PreviousEarlyRepaymentsCountBeforeLoan</th>\n",
              "    </tr>\n",
              "  </thead>\n",
              "  <tbody>\n",
              "    <tr>\n",
              "      <th>0</th>\n",
              "      <td>0</td>\n",
              "      <td>0</td>\n",
              "      <td>115.0410</td>\n",
              "      <td>True</td>\n",
              "      <td>2.0</td>\n",
              "      <td>1</td>\n",
              "      <td>61</td>\n",
              "      <td>1.0</td>\n",
              "      <td>EE</td>\n",
              "      <td>319.5582</td>\n",
              "      <td>115.0408</td>\n",
              "      <td>30.0</td>\n",
              "      <td>12</td>\n",
              "      <td>NaN</td>\n",
              "      <td>HARJU</td>\n",
              "      <td>TALLINN</td>\n",
              "      <td>7</td>\n",
              "      <td>3.0</td>\n",
              "      <td>1.0</td>\n",
              "      <td>3.0</td>\n",
              "      <td>UpTo3Years</td>\n",
              "      <td>7.0</td>\n",
              "      <td>NaN</td>\n",
              "      <td>10500.0</td>\n",
              "      <td>0</td>\n",
              "      <td>0.0</td>\n",
              "      <td>0</td>\n",
              "      <td>0.0</td>\n",
              "      <td>0.0</td>\n",
              "      <td>NaN</td>\n",
              "      <td>NaN</td>\n",
              "      <td>Repaid</td>\n",
              "      <td>False</td>\n",
              "      <td>NaN</td>\n",
              "      <td>NaN</td>\n",
              "      <td>115.0408</td>\n",
              "      <td>20.4222</td>\n",
              "      <td>0.00</td>\n",
              "      <td>0.00</td>\n",
              "      <td>1</td>\n",
              "      <td>83.0852</td>\n",
              "      <td>0.0000</td>\n",
              "      <td>0</td>\n",
              "    </tr>\n",
              "    <tr>\n",
              "      <th>1</th>\n",
              "      <td>0</td>\n",
              "      <td>0</td>\n",
              "      <td>140.6057</td>\n",
              "      <td>False</td>\n",
              "      <td>2.0</td>\n",
              "      <td>1</td>\n",
              "      <td>48</td>\n",
              "      <td>1.0</td>\n",
              "      <td>EE</td>\n",
              "      <td>191.7349</td>\n",
              "      <td>140.6057</td>\n",
              "      <td>25.0</td>\n",
              "      <td>1</td>\n",
              "      <td>NaN</td>\n",
              "      <td>IDA-VIRU</td>\n",
              "      <td>KOHTLA-JARVE</td>\n",
              "      <td>7</td>\n",
              "      <td>5.0</td>\n",
              "      <td>4.0</td>\n",
              "      <td>3.0</td>\n",
              "      <td>MoreThan5Years</td>\n",
              "      <td>16.0</td>\n",
              "      <td>NaN</td>\n",
              "      <td>10800.0</td>\n",
              "      <td>0</td>\n",
              "      <td>0.0</td>\n",
              "      <td>0</td>\n",
              "      <td>0.0</td>\n",
              "      <td>0.0</td>\n",
              "      <td>NaN</td>\n",
              "      <td>NaN</td>\n",
              "      <td>Repaid</td>\n",
              "      <td>False</td>\n",
              "      <td>NaN</td>\n",
              "      <td>NaN</td>\n",
              "      <td>140.6057</td>\n",
              "      <td>2.0227</td>\n",
              "      <td>0.00</td>\n",
              "      <td>0.00</td>\n",
              "      <td>2</td>\n",
              "      <td>255.6467</td>\n",
              "      <td>258.6256</td>\n",
              "      <td>0</td>\n",
              "    </tr>\n",
              "    <tr>\n",
              "      <th>2</th>\n",
              "      <td>0</td>\n",
              "      <td>0</td>\n",
              "      <td>319.5580</td>\n",
              "      <td>True</td>\n",
              "      <td>2.0</td>\n",
              "      <td>1</td>\n",
              "      <td>58</td>\n",
              "      <td>1.0</td>\n",
              "      <td>EE</td>\n",
              "      <td>319.5582</td>\n",
              "      <td>319.5409</td>\n",
              "      <td>25.0</td>\n",
              "      <td>20</td>\n",
              "      <td>NaN</td>\n",
              "      <td>PÄRNU</td>\n",
              "      <td>PÄRNU</td>\n",
              "      <td>2</td>\n",
              "      <td>4.0</td>\n",
              "      <td>1.0</td>\n",
              "      <td>3.0</td>\n",
              "      <td>UpTo4Years</td>\n",
              "      <td>9.0</td>\n",
              "      <td>NaN</td>\n",
              "      <td>7000.0</td>\n",
              "      <td>0</td>\n",
              "      <td>0.0</td>\n",
              "      <td>0</td>\n",
              "      <td>0.0</td>\n",
              "      <td>0.0</td>\n",
              "      <td>NaN</td>\n",
              "      <td>NaN</td>\n",
              "      <td>Late</td>\n",
              "      <td>True</td>\n",
              "      <td>NaN</td>\n",
              "      <td>NaN</td>\n",
              "      <td>203.1909</td>\n",
              "      <td>59.7626</td>\n",
              "      <td>116.35</td>\n",
              "      <td>414.07</td>\n",
              "      <td>0</td>\n",
              "      <td>0.0000</td>\n",
              "      <td>0.0000</td>\n",
              "      <td>0</td>\n",
              "    </tr>\n",
              "    <tr>\n",
              "      <th>3</th>\n",
              "      <td>0</td>\n",
              "      <td>0</td>\n",
              "      <td>57.5205</td>\n",
              "      <td>True</td>\n",
              "      <td>2.0</td>\n",
              "      <td>1</td>\n",
              "      <td>23</td>\n",
              "      <td>1.0</td>\n",
              "      <td>EE</td>\n",
              "      <td>127.8233</td>\n",
              "      <td>57.5205</td>\n",
              "      <td>45.0</td>\n",
              "      <td>15</td>\n",
              "      <td>NaN</td>\n",
              "      <td>HARJU</td>\n",
              "      <td>PALDISKI</td>\n",
              "      <td>0</td>\n",
              "      <td>2.0</td>\n",
              "      <td>3.0</td>\n",
              "      <td>NaN</td>\n",
              "      <td>UpTo2Years</td>\n",
              "      <td>1.0</td>\n",
              "      <td>NaN</td>\n",
              "      <td>11600.0</td>\n",
              "      <td>0</td>\n",
              "      <td>0.0</td>\n",
              "      <td>0</td>\n",
              "      <td>0.0</td>\n",
              "      <td>0.0</td>\n",
              "      <td>NaN</td>\n",
              "      <td>NaN</td>\n",
              "      <td>Repaid</td>\n",
              "      <td>False</td>\n",
              "      <td>NaN</td>\n",
              "      <td>NaN</td>\n",
              "      <td>57.5205</td>\n",
              "      <td>18.7323</td>\n",
              "      <td>0.00</td>\n",
              "      <td>0.00</td>\n",
              "      <td>1</td>\n",
              "      <td>134.2144</td>\n",
              "      <td>0.0000</td>\n",
              "      <td>0</td>\n",
              "    </tr>\n",
              "    <tr>\n",
              "      <th>4</th>\n",
              "      <td>0</td>\n",
              "      <td>0</td>\n",
              "      <td>319.5582</td>\n",
              "      <td>True</td>\n",
              "      <td>2.0</td>\n",
              "      <td>1</td>\n",
              "      <td>25</td>\n",
              "      <td>1.0</td>\n",
              "      <td>EE</td>\n",
              "      <td>319.5582</td>\n",
              "      <td>319.5436</td>\n",
              "      <td>30.0</td>\n",
              "      <td>12</td>\n",
              "      <td>NaN</td>\n",
              "      <td>TARTU</td>\n",
              "      <td>TARTU</td>\n",
              "      <td>6</td>\n",
              "      <td>4.0</td>\n",
              "      <td>2.0</td>\n",
              "      <td>3.0</td>\n",
              "      <td>UpTo2Years</td>\n",
              "      <td>7.0</td>\n",
              "      <td>NaN</td>\n",
              "      <td>6800.0</td>\n",
              "      <td>0</td>\n",
              "      <td>0.0</td>\n",
              "      <td>0</td>\n",
              "      <td>0.0</td>\n",
              "      <td>0.0</td>\n",
              "      <td>NaN</td>\n",
              "      <td>NaN</td>\n",
              "      <td>Repaid</td>\n",
              "      <td>False</td>\n",
              "      <td>NaN</td>\n",
              "      <td>NaN</td>\n",
              "      <td>319.5436</td>\n",
              "      <td>220.4200</td>\n",
              "      <td>0.00</td>\n",
              "      <td>0.00</td>\n",
              "      <td>1</td>\n",
              "      <td>146.9966</td>\n",
              "      <td>0.0000</td>\n",
              "      <td>0</td>\n",
              "    </tr>\n",
              "  </tbody>\n",
              "</table>\n",
              "</div>\n",
              "      <button class=\"colab-df-convert\" onclick=\"convertToInteractive('df-5b472b79-aaf4-4170-9230-ed1eb8879030')\"\n",
              "              title=\"Convert this dataframe to an interactive table.\"\n",
              "              style=\"display:none;\">\n",
              "        \n",
              "  <svg xmlns=\"http://www.w3.org/2000/svg\" height=\"24px\"viewBox=\"0 0 24 24\"\n",
              "       width=\"24px\">\n",
              "    <path d=\"M0 0h24v24H0V0z\" fill=\"none\"/>\n",
              "    <path d=\"M18.56 5.44l.94 2.06.94-2.06 2.06-.94-2.06-.94-.94-2.06-.94 2.06-2.06.94zm-11 1L8.5 8.5l.94-2.06 2.06-.94-2.06-.94L8.5 2.5l-.94 2.06-2.06.94zm10 10l.94 2.06.94-2.06 2.06-.94-2.06-.94-.94-2.06-.94 2.06-2.06.94z\"/><path d=\"M17.41 7.96l-1.37-1.37c-.4-.4-.92-.59-1.43-.59-.52 0-1.04.2-1.43.59L10.3 9.45l-7.72 7.72c-.78.78-.78 2.05 0 2.83L4 21.41c.39.39.9.59 1.41.59.51 0 1.02-.2 1.41-.59l7.78-7.78 2.81-2.81c.8-.78.8-2.07 0-2.86zM5.41 20L4 18.59l7.72-7.72 1.47 1.35L5.41 20z\"/>\n",
              "  </svg>\n",
              "      </button>\n",
              "      \n",
              "  <style>\n",
              "    .colab-df-container {\n",
              "      display:flex;\n",
              "      flex-wrap:wrap;\n",
              "      gap: 12px;\n",
              "    }\n",
              "\n",
              "    .colab-df-convert {\n",
              "      background-color: #E8F0FE;\n",
              "      border: none;\n",
              "      border-radius: 50%;\n",
              "      cursor: pointer;\n",
              "      display: none;\n",
              "      fill: #1967D2;\n",
              "      height: 32px;\n",
              "      padding: 0 0 0 0;\n",
              "      width: 32px;\n",
              "    }\n",
              "\n",
              "    .colab-df-convert:hover {\n",
              "      background-color: #E2EBFA;\n",
              "      box-shadow: 0px 1px 2px rgba(60, 64, 67, 0.3), 0px 1px 3px 1px rgba(60, 64, 67, 0.15);\n",
              "      fill: #174EA6;\n",
              "    }\n",
              "\n",
              "    [theme=dark] .colab-df-convert {\n",
              "      background-color: #3B4455;\n",
              "      fill: #D2E3FC;\n",
              "    }\n",
              "\n",
              "    [theme=dark] .colab-df-convert:hover {\n",
              "      background-color: #434B5C;\n",
              "      box-shadow: 0px 1px 3px 1px rgba(0, 0, 0, 0.15);\n",
              "      filter: drop-shadow(0px 1px 2px rgba(0, 0, 0, 0.3));\n",
              "      fill: #FFFFFF;\n",
              "    }\n",
              "  </style>\n",
              "\n",
              "      <script>\n",
              "        const buttonEl =\n",
              "          document.querySelector('#df-5b472b79-aaf4-4170-9230-ed1eb8879030 button.colab-df-convert');\n",
              "        buttonEl.style.display =\n",
              "          google.colab.kernel.accessAllowed ? 'block' : 'none';\n",
              "\n",
              "        async function convertToInteractive(key) {\n",
              "          const element = document.querySelector('#df-5b472b79-aaf4-4170-9230-ed1eb8879030');\n",
              "          const dataTable =\n",
              "            await google.colab.kernel.invokeFunction('convertToInteractive',\n",
              "                                                     [key], {});\n",
              "          if (!dataTable) return;\n",
              "\n",
              "          const docLinkHtml = 'Like what you see? Visit the ' +\n",
              "            '<a target=\"_blank\" href=https://colab.research.google.com/notebooks/data_table.ipynb>data table notebook</a>'\n",
              "            + ' to learn more about interactive tables.';\n",
              "          element.innerHTML = '';\n",
              "          dataTable['output_type'] = 'display_data';\n",
              "          await google.colab.output.renderOutput(dataTable, element);\n",
              "          const docLink = document.createElement('div');\n",
              "          docLink.innerHTML = docLinkHtml;\n",
              "          element.appendChild(docLink);\n",
              "        }\n",
              "      </script>\n",
              "    </div>\n",
              "  </div>\n",
              "  "
            ]
          },
          "metadata": {},
          "execution_count": 98
        }
      ]
    },
    {
      "cell_type": "code",
      "source": [
        "db.shape"
      ],
      "metadata": {
        "colab": {
          "base_uri": "https://localhost:8080/"
        },
        "id": "0TLQuHx952DD",
        "outputId": "d8fae886-7600-4b7f-d307-87ed0bf90b5e"
      },
      "execution_count": 99,
      "outputs": [
        {
          "output_type": "execute_result",
          "data": {
            "text/plain": [
              "(134529, 43)"
            ]
          },
          "metadata": {},
          "execution_count": 99
        }
      ]
    },
    {
      "cell_type": "markdown",
      "source": [
        "**Creating Target Variable**\n",
        "\n",
        "Here, status is the variable which help us in creating target variable. The reason for not making status as target variable is that it has three unique values current, Late and repaid. There is no default feature but there is a feature default date which tells us when the borrower has defaulted means on which date the borrower defaulted. So, we will be combining Status and Default date features for creating target variable.The reason we cannot simply treat Late as default because it also has some records in which actual status is Late but the user has never defaulted i.e., default date is null. So we will first filter out all the current status records because they are not matured yet they are current loans.\n",
        "\n",
        "Now, we will create new target variable in which 0 will be assigned when default date is null means borrower has never defaulted while 1 in case default date is present."
      ],
      "metadata": {
        "id": "ozN1EjZX_4uT"
      }
    },
    {
      "cell_type": "code",
      "source": [
        "# Add DefaultDate Column to our df dataset\n",
        "db[\"DefaultDate\"] = pd.read_csv('/content/Bondora_raw.csv',low_memory=False).DefaultDate"
      ],
      "metadata": {
        "id": "YpKGJzSb_Wd2"
      },
      "execution_count": 100,
      "outputs": []
    },
    {
      "cell_type": "code",
      "source": [
        "# let's find the counts of each status categories \n",
        "db.Status.value_counts()"
      ],
      "metadata": {
        "colab": {
          "base_uri": "https://localhost:8080/"
        },
        "id": "K0d9nIBPA5pX",
        "outputId": "a565f072-dc36-4f84-e2dc-8021bba5760b"
      },
      "execution_count": 101,
      "outputs": [
        {
          "output_type": "execute_result",
          "data": {
            "text/plain": [
              "Current    57135\n",
              "Late       45772\n",
              "Repaid     31622\n",
              "Name: Status, dtype: int64"
            ]
          },
          "metadata": {},
          "execution_count": 101
        }
      ]
    },
    {
      "cell_type": "code",
      "source": [
        "# filtering out Current Status records\n",
        "db = db[db.Status != 'Current']"
      ],
      "metadata": {
        "id": "YCtNPZbDA_SN"
      },
      "execution_count": 102,
      "outputs": []
    },
    {
      "cell_type": "code",
      "source": [
        "db.Status.value_counts()"
      ],
      "metadata": {
        "colab": {
          "base_uri": "https://localhost:8080/"
        },
        "id": "wssbe_l6BHyz",
        "outputId": "4bf2f671-da77-4994-bf79-7ba6ce571795"
      },
      "execution_count": 103,
      "outputs": [
        {
          "output_type": "execute_result",
          "data": {
            "text/plain": [
              "Late      45772\n",
              "Repaid    31622\n",
              "Name: Status, dtype: int64"
            ]
          },
          "metadata": {},
          "execution_count": 103
        }
      ]
    },
    {
      "cell_type": "code",
      "source": [
        "db.shape"
      ],
      "metadata": {
        "colab": {
          "base_uri": "https://localhost:8080/"
        },
        "id": "Dm9RO7iZBPVd",
        "outputId": "dc839768-062a-4e34-c89a-4a72d9c44621"
      },
      "execution_count": 104,
      "outputs": [
        {
          "output_type": "execute_result",
          "data": {
            "text/plain": [
              "(77394, 44)"
            ]
          },
          "metadata": {},
          "execution_count": 104
        }
      ]
    },
    {
      "cell_type": "code",
      "source": [
        "# Rplace any null value by NoDefault in DefaultDate column\n",
        "db.DefaultDate.fillna('NoDefault', inplace = True)"
      ],
      "metadata": {
        "id": "pCCmRKW5CRae"
      },
      "execution_count": 105,
      "outputs": []
    },
    {
      "cell_type": "code",
      "source": [
        "# Replace any Date by Defalut\n",
        "for i in range(len(db.DefaultDate.values)):\n",
        "    if db.DefaultDate.values[i] != 'NoDefault':\n",
        "        db.DefaultDate.values[i] = 'Default'"
      ],
      "metadata": {
        "id": "xEow0oNNChFe"
      },
      "execution_count": 106,
      "outputs": []
    },
    {
      "cell_type": "code",
      "source": [
        "# check the counts of default and nondefault \n",
        "db.DefaultDate.value_counts()"
      ],
      "metadata": {
        "colab": {
          "base_uri": "https://localhost:8080/"
        },
        "id": "rSRIM81uDCcE",
        "outputId": "ed3d1503-fa64-4a6d-f341-b0cfc6423b7a"
      },
      "execution_count": 107,
      "outputs": [
        {
          "output_type": "execute_result",
          "data": {
            "text/plain": [
              "Default      42794\n",
              "NoDefault    34600\n",
              "Name: DefaultDate, dtype: int64"
            ]
          },
          "metadata": {},
          "execution_count": 107
        }
      ]
    },
    {
      "cell_type": "code",
      "source": [
        "# let's drop the status columns\n",
        "db.drop(columns=['Status'], inplace = True)"
      ],
      "metadata": {
        "id": "koaXcmgzDOl_"
      },
      "execution_count": 108,
      "outputs": []
    },
    {
      "cell_type": "code",
      "source": [
        "# Rename DefaultDate column to LoanStatus\n",
        "db.rename(columns={'DefaultDate':'LoanStatus'}, inplace = True)"
      ],
      "metadata": {
        "id": "hJoEklKKDXtx"
      },
      "execution_count": 109,
      "outputs": []
    },
    {
      "cell_type": "markdown",
      "source": [
        "Checking datatype of all features\n",
        "In this step we will see any data type mismatch"
      ],
      "metadata": {
        "id": "wjrlcVBoD36w"
      }
    },
    {
      "cell_type": "code",
      "source": [
        "# write your code here\n",
        "db.dtypes"
      ],
      "metadata": {
        "colab": {
          "base_uri": "https://localhost:8080/"
        },
        "id": "RiaZwlhjDtfT",
        "outputId": "b7cabbe6-ffa7-482d-e5b0-364b4c503acd"
      },
      "execution_count": 110,
      "outputs": [
        {
          "output_type": "execute_result",
          "data": {
            "text/plain": [
              "BidsPortfolioManager                        int64\n",
              "BidsApi                                     int64\n",
              "BidsManual                                float64\n",
              "NewCreditCustomer                            bool\n",
              "VerificationType                          float64\n",
              "LanguageCode                                int64\n",
              "Age                                         int64\n",
              "Gender                                    float64\n",
              "Country                                    object\n",
              "AppliedAmount                             float64\n",
              "Amount                                    float64\n",
              "Interest                                  float64\n",
              "LoanDuration                                int64\n",
              "MonthlyPayment                            float64\n",
              "County                                     object\n",
              "City                                       object\n",
              "UseOfLoan                                   int64\n",
              "Education                                 float64\n",
              "MaritalStatus                             float64\n",
              "EmploymentStatus                          float64\n",
              "EmploymentDurationCurrentEmployer          object\n",
              "OccupationArea                            float64\n",
              "HomeOwnershipType                         float64\n",
              "IncomeTotal                               float64\n",
              "ExistingLiabilities                         int64\n",
              "LiabilitiesTotal                          float64\n",
              "RefinanceLiabilities                        int64\n",
              "DebtToIncome                              float64\n",
              "FreeCash                                  float64\n",
              "RecoveryStage                             float64\n",
              "Rating                                     object\n",
              "Restructured                                 bool\n",
              "CreditScoreEsMicroL                        object\n",
              "CreditScoreEeMini                         float64\n",
              "PrincipalPaymentsMade                     float64\n",
              "InterestAndPenaltyPaymentsMade            float64\n",
              "PrincipalBalance                          float64\n",
              "InterestAndPenaltyBalance                 float64\n",
              "NoOfPreviousLoansBeforeLoan                 int64\n",
              "AmountOfPreviousLoansBeforeLoan           float64\n",
              "PreviousRepaymentsBeforeLoan              float64\n",
              "PreviousEarlyRepaymentsCountBeforeLoan      int64\n",
              "LoanStatus                                 object\n",
              "dtype: object"
            ]
          },
          "metadata": {},
          "execution_count": 110
        }
      ]
    },
    {
      "cell_type": "markdown",
      "source": [
        "As we can see in numeric column distribution there are many columns which are present as numeric but they are actually categorical as per data description such as Verification Type, Language Code, Gender, Use of Loan, Education, Marital Status,EmployementStatus, OccupationArea etc.\n",
        "So we will convert these features to categorical features as with numerical value we can assign value to feature\n",
        "For verification column:"
      ],
      "metadata": {
        "id": "FRcRseukEPVP"
      }
    },
    {
      "cell_type": "code",
      "source": [
        "# Replace Null values by 'Not Set'\n",
        "db.VerificationType.fillna('Not Set', inplace = True)"
      ],
      "metadata": {
        "id": "Ild61VA6D9Ao"
      },
      "execution_count": 111,
      "outputs": []
    },
    {
      "cell_type": "code",
      "source": [
        "# convert from float type to string first\n",
        "db['VerificationType'] = db['VerificationType'].astype(object)\n",
        "\n",
        "for i in range(len(db.VerificationType.values)):\n",
        "    db.VerificationType.values[i] = str(db.VerificationType.values[i])"
      ],
      "metadata": {
        "id": "sCVdS_wbEeda"
      },
      "execution_count": 112,
      "outputs": []
    },
    {
      "cell_type": "code",
      "source": [
        "# From Bonora dataser we can find that:\n",
        "# 0 Not set, 1 Income unverified, 2 Income unverified, cross-referenced by phone, 3 Income verified \n",
        "db.VerificationType = db.VerificationType.str.replace('0.0', 'Not Set')\n",
        "db.VerificationType = db.VerificationType.str.replace('1.0', 'Income unverified')\n",
        "db.VerificationType = db.VerificationType.str.replace('2.0', 'Income unverified,cross-referenced by phone')\n",
        "db.VerificationType = db.VerificationType.str.replace('3.0', 'Income verified')\n",
        "db.VerificationType = db.VerificationType.str.replace('4.0', 'Income and expenses verified')"
      ],
      "metadata": {
        "id": "BVYFIN9KEn-k"
      },
      "execution_count": 113,
      "outputs": []
    },
    {
      "cell_type": "code",
      "source": [
        "db.VerificationType.value_counts()"
      ],
      "metadata": {
        "colab": {
          "base_uri": "https://localhost:8080/"
        },
        "id": "S2AVNQV5FGqD",
        "outputId": "c874af17-ebce-46b3-c82a-948c1cdc59d6"
      },
      "execution_count": 114,
      "outputs": [
        {
          "output_type": "execute_result",
          "data": {
            "text/plain": [
              "Income and expenses verified                   41428\n",
              "Income unverified                              25626\n",
              "Income verified                                 8460\n",
              "Income unverified,cross-referenced by phone     1827\n",
              "Not Set                                           53\n",
              "Name: VerificationType, dtype: int64"
            ]
          },
          "metadata": {},
          "execution_count": 114
        }
      ]
    },
    {
      "cell_type": "code",
      "source": [
        "db.Gender.value_counts()"
      ],
      "metadata": {
        "colab": {
          "base_uri": "https://localhost:8080/"
        },
        "id": "jR7w9IP9FS6r",
        "outputId": "a00587d9-7e3b-4018-e9bc-d3cc76d5be73"
      },
      "execution_count": 115,
      "outputs": [
        {
          "output_type": "execute_result",
          "data": {
            "text/plain": [
              "0.0    50697\n",
              "1.0    20927\n",
              "2.0     5725\n",
              "Name: Gender, dtype: int64"
            ]
          },
          "metadata": {},
          "execution_count": 115
        }
      ]
    },
    {
      "cell_type": "code",
      "source": [
        "# Replace Null values by Undefined\n",
        "db.Gender.fillna('Undefined', inplace = True)"
      ],
      "metadata": {
        "id": "hq2ruGZjFZkz"
      },
      "execution_count": 116,
      "outputs": []
    },
    {
      "cell_type": "code",
      "source": [
        "# Convert from int types to string first\n",
        "db['Gender'] = db['Gender'].astype(object)\n",
        "\n",
        "for i in range(len(db.Gender.values)):\n",
        "    db.Gender.values[i] = str(db.Gender.values[i])"
      ],
      "metadata": {
        "id": "hWLMcidVFgou"
      },
      "execution_count": 117,
      "outputs": []
    },
    {
      "cell_type": "code",
      "source": [
        "# From Bonora dataser we can find that:\n",
        "## 0.0 Male 1.0 Female 2.0 Undefined\n",
        "db.Gender = db.Gender.str.replace('0.0', 'Male')\n",
        "db.Gender = db.Gender.str.replace('1.0', 'Female')\n",
        "db.Gender = db.Gender.str.replace('2.0', 'Undefined')"
      ],
      "metadata": {
        "id": "RkaU14pcF314"
      },
      "execution_count": 118,
      "outputs": []
    },
    {
      "cell_type": "code",
      "source": [
        "# Check\n",
        "db.Gender.value_counts()\n"
      ],
      "metadata": {
        "colab": {
          "base_uri": "https://localhost:8080/"
        },
        "id": "onbFOgcjF_1l",
        "outputId": "518434ee-0ecf-4b20-abbc-4e7874c92a47"
      },
      "execution_count": 119,
      "outputs": [
        {
          "output_type": "execute_result",
          "data": {
            "text/plain": [
              "Male         50697\n",
              "Female       20927\n",
              "Undefined     5770\n",
              "Name: Gender, dtype: int64"
            ]
          },
          "metadata": {},
          "execution_count": 119
        }
      ]
    },
    {
      "cell_type": "markdown",
      "source": [
        "lets handle language column\n"
      ],
      "metadata": {
        "id": "g5UVx9_GGYIA"
      }
    },
    {
      "cell_type": "code",
      "source": [
        "db.LanguageCode=db.LanguageCode.astype(object)\n",
        "for i in range(len(db.LanguageCode.values)):\n",
        "    db.LanguageCode.values[i] = str(db.LanguageCode.values[i])\n"
      ],
      "metadata": {
        "id": "dco5JR7VGSbo"
      },
      "execution_count": 124,
      "outputs": []
    },
    {
      "cell_type": "code",
      "source": [
        "# From Bonora dataser we can find that:\n",
        "## 1 Estonian 2 English 3 Russian 4 Finnish 5 German 6 Spanish 9 Slovakian\n",
        "### We will give 'Other' to other Language code\n",
        "#### You should handle 'Other' first\n",
        "db.LanguageCode = db.LanguageCode.str.replace('7',  'Other')\n",
        "db.LanguageCode = db.LanguageCode.str.replace('10', 'Other')\n",
        "db.LanguageCode = db.LanguageCode.str.replace('13', 'Other')\n",
        "db.LanguageCode = db.LanguageCode.str.replace('15', 'Other')\n",
        "db.LanguageCode = db.LanguageCode.str.replace('21', 'Other')\n",
        "db.LanguageCode = db.LanguageCode.str.replace('22', 'Other')\n",
        "db.LanguageCode = db.LanguageCode.str.replace('1', 'Estonian')\n",
        "db.LanguageCode = db.LanguageCode.str.replace('2', 'English')\n",
        "db.LanguageCode = db.LanguageCode.str.replace('3', 'Russian')\n",
        "db.LanguageCode = db.LanguageCode.str.replace('4', 'Finnish')\n",
        "db.LanguageCode = db.LanguageCode.str.replace('5', 'German')\n",
        "db.LanguageCode = db.LanguageCode.str.replace('6', 'Spanish')\n",
        "db.LanguageCode = db.LanguageCode.str.replace('9', 'Slovakian')"
      ],
      "metadata": {
        "id": "MyyWg3sJIv0C"
      },
      "execution_count": 126,
      "outputs": []
    },
    {
      "cell_type": "code",
      "source": [
        "# Convert from int types to string first\n",
        "db.UseOfLoan = db.UseOfLoan.astype(object)\n",
        "\n",
        "for i in range(len(db.UseOfLoan.values)):\n",
        "    db.UseOfLoan.values[i] = str(db.UseOfLoan.values[i])"
      ],
      "metadata": {
        "id": "_BJoZCr-I9bU"
      },
      "execution_count": 128,
      "outputs": []
    },
    {
      "cell_type": "code",
      "source": [
        "# From Bondora dataset and Bondora Statistics Page we can find that:\n",
        "## -1 Not Set, 0 Loan consolidation , 1 Real estate, 2 Home improvement, 3 Business, 4 Education, 5 Travel, 6 Vehicle, 7 Other,\n",
        "## 8 Health, 102  Purchase of machinery equipment, 110 Other business, 104 Accounts receivable financing, \n",
        "## 101 Working capital financing, 107 Acquisition of stocks, 108 Acquisition of real estate, 106 Acquisition of means of transport\n",
        "\n",
        "db.UseOfLoan = db.UseOfLoan.str.replace('102', 'Purchase of machinery equipment')\n",
        "db.UseOfLoan = db.UseOfLoan.str.replace('110', 'Other business')\n",
        "db.UseOfLoan = db.UseOfLoan.str.replace('104', 'Accounts receivable financing')\n",
        "db.UseOfLoan = db.UseOfLoan.str.replace('101', 'Working capital financing')\n",
        "db.UseOfLoan = db.UseOfLoan.str.replace('107', 'Acquisition of stocks')\n",
        "db.UseOfLoan = db.UseOfLoan.str.replace('106', 'Acquisition of means of transport')\n",
        "db.UseOfLoan = db.UseOfLoan.str.replace('108', 'Acquisition of real estate')\n",
        "\n",
        "db.UseOfLoan = db.UseOfLoan.str.replace('-1',  'Not Set')\n",
        "db.UseOfLoan = db.UseOfLoan.str.replace('0',   'Loan consolidation')\n",
        "db.UseOfLoan = db.UseOfLoan.str.replace('1',   'Real estate')\n",
        "db.UseOfLoan = db.UseOfLoan.str.replace('2',   'Home improvement')\n",
        "db.UseOfLoan = db.UseOfLoan.str.replace('3',   'Business')\n",
        "db.UseOfLoan = db.UseOfLoan.str.replace('4',   'Education')\n",
        "db.UseOfLoan = db.UseOfLoan.str.replace('5',   'Travel')\n",
        "db.UseOfLoan = db.UseOfLoan.str.replace('6',   'Vehicle')\n",
        "db.UseOfLoan = db.UseOfLoan.str.replace('7',   'Other')\n",
        "db.UseOfLoan = db.UseOfLoan.str.replace('8',   'Health')"
      ],
      "metadata": {
        "id": "lGOUUNz8J4uO"
      },
      "execution_count": 129,
      "outputs": []
    },
    {
      "cell_type": "code",
      "source": [
        "# We will replace Null values\n",
        "db.Education.fillna('Not Present', inplace = True)"
      ],
      "metadata": {
        "id": "9WAV5jp0KM3b"
      },
      "execution_count": 130,
      "outputs": []
    },
    {
      "cell_type": "code",
      "source": [
        "db.Education.value_counts()"
      ],
      "metadata": {
        "colab": {
          "base_uri": "https://localhost:8080/"
        },
        "id": "FceTlmscKVLl",
        "outputId": "0f6c9f49-efce-4df9-e84a-5580ebfef14b"
      },
      "execution_count": 131,
      "outputs": [
        {
          "output_type": "execute_result",
          "data": {
            "text/plain": [
              "4.0            28557\n",
              "5.0            20919\n",
              "3.0            17257\n",
              "2.0             5379\n",
              "1.0             5226\n",
              "Not Present       45\n",
              "0.0                8\n",
              "-1.0               3\n",
              "Name: Education, dtype: int64"
            ]
          },
          "metadata": {},
          "execution_count": 131
        }
      ]
    },
    {
      "cell_type": "code",
      "source": [
        "# Convert from int types to string first\n",
        "db.Education = db.Education.astype(object)\n",
        "\n",
        "for i in range(len(db.Education.values)):\n",
        "    db.Education.values[i] = str(db.Education.values[i])"
      ],
      "metadata": {
        "id": "yB2wxHJzKYz0"
      },
      "execution_count": 132,
      "outputs": []
    },
    {
      "cell_type": "code",
      "source": [
        "# We will replace 0 and -1 by \"Not Present\".\n",
        "## And from Bondora dataset and Bondora Statistics Page we can find that:\n",
        "## 1 Primary education, 2 Basic education, 3 Vocational education, 4 Secondary education, 5 Higher education.\n",
        "db.Education = db.Education.str.replace('-1.0',  'Not Present')\n",
        "db.Education = db.Education.str.replace('0.0',   'Not Present')\n",
        "db.Education = db.Education.str.replace('1.0',   'Primary education')\n",
        "db.Education = db.Education.str.replace('2.0',   'Basic education')\n",
        "db.Education = db.Education.str.replace('3.0',   'Vocational education')\n",
        "db.Education = db.Education.str.replace('4.0',   'Secondary education')\n",
        "db.Education = db.Education.str.replace('5.0',   'Higher education')"
      ],
      "metadata": {
        "id": "tkamza_2Kgb5"
      },
      "execution_count": 133,
      "outputs": []
    },
    {
      "cell_type": "markdown",
      "source": [
        "Let's handle MaritalStatus column :"
      ],
      "metadata": {
        "id": "rneifTmXKtnv"
      }
    },
    {
      "cell_type": "code",
      "source": [
        "db.MaritalStatus.value_counts()\n"
      ],
      "metadata": {
        "colab": {
          "base_uri": "https://localhost:8080/"
        },
        "id": "be-Pq0KpKodW",
        "outputId": "d69f5565-734d-4c18-9e22-53f6d715f7c7"
      },
      "execution_count": 135,
      "outputs": [
        {
          "output_type": "execute_result",
          "data": {
            "text/plain": [
              "-1.0    44177\n",
              " 3.0    11504\n",
              " 1.0     9585\n",
              " 2.0     8479\n",
              " 4.0     3077\n",
              " 5.0      519\n",
              " 0.0        8\n",
              "Name: MaritalStatus, dtype: int64"
            ]
          },
          "metadata": {},
          "execution_count": 135
        }
      ]
    },
    {
      "cell_type": "code",
      "source": [
        "# Replace Null values by \"Not Specified\"\n",
        "db.MaritalStatus.fillna('Not Specified', inplace = True)\n"
      ],
      "metadata": {
        "id": "_WM845bqKxsq"
      },
      "execution_count": 136,
      "outputs": []
    },
    {
      "cell_type": "code",
      "source": [
        "# Convert from int types to string first\n",
        "db.MaritalStatus = db.MaritalStatus.astype(object)\n",
        "\n",
        "for i in range(len(db.MaritalStatus.values)):\n",
        "    db.MaritalStatus.values[i] = str(db.MaritalStatus.values[i])"
      ],
      "metadata": {
        "id": "QIufs1QOK7dZ"
      },
      "execution_count": 137,
      "outputs": []
    },
    {
      "cell_type": "code",
      "source": [
        "# Again Marital status of value 0 and -1 has no description so we will encode them as Not_specified\n",
        "## And from Bondora dataser:\n",
        "## 1 Married 2 Cohabitant 3 Single 4 Divorced 5 Widow\n",
        "db.MaritalStatus = db.MaritalStatus.str.replace('-1.0',  'Not Specified')\n",
        "db.MaritalStatus = db.MaritalStatus.str.replace('0.0',   'Not Specified')\n",
        "db.MaritalStatus = db.MaritalStatus.str.replace('1.0',   'Married')\n",
        "db.MaritalStatus = db.MaritalStatus.str.replace('2.0',   'Cohabitant')\n",
        "db.MaritalStatus = db.MaritalStatus.str.replace('3.0',   'Single')\n",
        "db.MaritalStatus = db.MaritalStatus.str.replace('4.0',   'Divorced')\n",
        "db.MaritalStatus = db.MaritalStatus.str.replace('5.0',   'Widow')"
      ],
      "metadata": {
        "id": "gNty8a89LEI7"
      },
      "execution_count": 139,
      "outputs": []
    },
    {
      "cell_type": "code",
      "source": [
        "db.EmploymentStatus.fillna('Not present', inplace = True)"
      ],
      "metadata": {
        "id": "NekPj1_SLQZj"
      },
      "execution_count": 141,
      "outputs": []
    },
    {
      "cell_type": "code",
      "source": [
        "# Convert from int types to string first\n",
        "db.EmploymentStatus = db.EmploymentStatus.astype(object)\n",
        "\n",
        "for i in range(len(db.EmploymentStatus.values)):\n",
        "    db.EmploymentStatus.values[i] = str(db.EmploymentStatus.values[i])"
      ],
      "metadata": {
        "id": "KiUFp7TgMog-"
      },
      "execution_count": 142,
      "outputs": []
    },
    {
      "cell_type": "code",
      "source": [
        "# Again EmploymentStatus of value 0 and -1 has no description so we will encode them as Not present\n",
        "## And from Bondora dataser:\n",
        "## 1 Unemployed 2 Partially employed 3 Fully employed 4 Self-employed 5 Entrepreneur 6 Retiree\n",
        "db.EmploymentStatus = db.EmploymentStatus.str.replace('-1.0',  'Not present')\n",
        "db.EmploymentStatus = db.EmploymentStatus.str.replace('0.0',   'Not present')\n",
        "db.EmploymentStatus = db.EmploymentStatus.str.replace('2.0',   'Partially employed')\n",
        "db.EmploymentStatus = db.EmploymentStatus.str.replace('3.0',   'Fully employed')\n",
        "db.EmploymentStatus = db.EmploymentStatus.str.replace('4.0',   'Self-employed')\n",
        "db.EmploymentStatus = db.EmploymentStatus.str.replace('5.0',   'Entrepreneur')\n",
        "db.EmploymentStatus = db.EmploymentStatus.str.replace('6.0',   'Retiree')"
      ],
      "metadata": {
        "id": "j92vtt1uMw5f"
      },
      "execution_count": 143,
      "outputs": []
    },
    {
      "cell_type": "code",
      "source": [
        "\n",
        "db.EmploymentStatus.value_counts()"
      ],
      "metadata": {
        "colab": {
          "base_uri": "https://localhost:8080/"
        },
        "id": "Qo1WT7iyM7t4",
        "outputId": "751f16e3-9f9e-4d84-c851-d1dec1775416"
      },
      "execution_count": 144,
      "outputs": [
        {
          "output_type": "execute_result",
          "data": {
            "text/plain": [
              "Not present           44406\n",
              "Fully employed        27309\n",
              "Entrepreneur           1695\n",
              "Retiree                1663\n",
              "Self-employed          1211\n",
              "Partially employed     1110\n",
              "Name: EmploymentStatus, dtype: int64"
            ]
          },
          "metadata": {},
          "execution_count": 144
        }
      ]
    },
    {
      "cell_type": "code",
      "source": [
        "db.NewCreditCustomer.value_counts()"
      ],
      "metadata": {
        "colab": {
          "base_uri": "https://localhost:8080/"
        },
        "id": "grjouQAVNFgW",
        "outputId": "14cf8675-11a0-4bda-d768-2a2b9cd90233"
      },
      "execution_count": 146,
      "outputs": [
        {
          "output_type": "execute_result",
          "data": {
            "text/plain": [
              "True     48867\n",
              "False    28527\n",
              "Name: NewCreditCustomer, dtype: int64"
            ]
          },
          "metadata": {},
          "execution_count": 146
        }
      ]
    },
    {
      "cell_type": "code",
      "source": [
        "# Convert from int types to string first\n",
        "db.NewCreditCustomer = db.NewCreditCustomer.astype(object)\n",
        "\n",
        "for i in range(len(db.NewCreditCustomer.values)):\n",
        "    db.NewCreditCustomer.values[i] = str(db.NewCreditCustomer.values[i])"
      ],
      "metadata": {
        "id": "adi1_bfRNJPd"
      },
      "execution_count": 147,
      "outputs": []
    },
    {
      "cell_type": "code",
      "source": [
        "db.Restructured.value_counts()"
      ],
      "metadata": {
        "colab": {
          "base_uri": "https://localhost:8080/"
        },
        "id": "BWseiboDNSn6",
        "outputId": "67b096f5-afd0-4022-b9b7-0f3528602cc4"
      },
      "execution_count": 148,
      "outputs": [
        {
          "output_type": "execute_result",
          "data": {
            "text/plain": [
              "False    61885\n",
              "True     15509\n",
              "Name: Restructured, dtype: int64"
            ]
          },
          "metadata": {},
          "execution_count": 148
        }
      ]
    },
    {
      "cell_type": "code",
      "source": [
        "# Convert from int types to string first\n",
        "db.Restructured = db.Restructured.astype(object)\n",
        "\n",
        "for i in range(len(db.Restructured.values)):\n",
        "    db.Restructured.values[i] = str(db.Restructured.values[i])"
      ],
      "metadata": {
        "id": "FO5nEU4LNYbI"
      },
      "execution_count": 149,
      "outputs": []
    },
    {
      "cell_type": "code",
      "source": [
        "# Replace Null values by \"Not present\"\n",
        "db.OccupationArea.fillna('Not present', inplace = True)"
      ],
      "metadata": {
        "id": "NW7s9abqNhI2"
      },
      "execution_count": 150,
      "outputs": []
    },
    {
      "cell_type": "code",
      "source": [
        "db.OccupationArea.value_counts()"
      ],
      "metadata": {
        "colab": {
          "base_uri": "https://localhost:8080/"
        },
        "id": "nkKY0XDiNo_9",
        "outputId": "0f370ee3-c70b-407d-a352-04089bc253da"
      },
      "execution_count": 152,
      "outputs": [
        {
          "output_type": "execute_result",
          "data": {
            "text/plain": [
              "-1.0           44228\n",
              "1.0             7640\n",
              "7.0             3207\n",
              "6.0             3007\n",
              "3.0             2876\n",
              "8.0             2276\n",
              "17.0            2186\n",
              "9.0             2106\n",
              "10.0            1782\n",
              "15.0            1555\n",
              "16.0            1251\n",
              "11.0            1054\n",
              "19.0             893\n",
              "14.0             798\n",
              "4.0              530\n",
              "18.0             524\n",
              "13.0             493\n",
              "12.0             433\n",
              "5.0              342\n",
              "2.0              116\n",
              "Not present       86\n",
              "0.0               11\n",
              "Name: OccupationArea, dtype: int64"
            ]
          },
          "metadata": {},
          "execution_count": 152
        }
      ]
    },
    {
      "cell_type": "code",
      "source": [
        "# Convert from int types to string first\n",
        "db.OccupationArea = db.OccupationArea.astype(object)\n",
        "\n",
        "for i in range(len(db.OccupationArea.values)):\n",
        "    db.OccupationArea.values[i] = str(db.OccupationArea.values[i])"
      ],
      "metadata": {
        "id": "OYy9y6mmNsEk"
      },
      "execution_count": 154,
      "outputs": []
    },
    {
      "cell_type": "code",
      "source": [
        "## We will replace -1 and 0 by \"Not present\"\n",
        "## And from the Bonora dataset we find : 1 Other 2 Mining 3 Processing 4 Energy 5 Utilities 6 Construction \n",
        "## 7 Retail and wholesale 8 Transport and warehousing 9 Hospitality and catering 10 Info and telecom \n",
        "## 11 Finance and insurance 12 Real-estate 13 Research 14 Administrative 15 Civil service & military 16 Education 17 \n",
        "## Healthcare and social help 18 Art and entertainment 19 Agriculture, forestry and fishing\n",
        "db.OccupationArea = db.OccupationArea.str.replace('10.0', 'Info and telecom')\n",
        "db.OccupationArea = db.OccupationArea.str.replace('11.0', 'Finance and insurance')\n",
        "db.OccupationArea = db.OccupationArea.str.replace('12.0', 'Real-estate')\n",
        "db.OccupationArea = db.OccupationArea.str.replace('13.0', 'Research')\n",
        "db.OccupationArea = db.OccupationArea.str.replace('14.0', 'Administrative')\n",
        "db.OccupationArea = db.OccupationArea.str.replace('15.0', 'Civil service & military')\n",
        "db.OccupationArea = db.OccupationArea.str.replace('16.0', 'Education')\n",
        "db.OccupationArea = db.OccupationArea.str.replace('17.0', 'Healthcare and social help')\n",
        "db.OccupationArea = db.OccupationArea.str.replace('18.0', 'Art and entertainment')\n",
        "db.OccupationArea = db.OccupationArea.str.replace('19.0', 'Agriculture, forestry and fishing')\n",
        "db.OccupationArea = db.OccupationArea.str.replace('-1.0', 'Not present')\n",
        "db.OccupationArea = db.OccupationArea.str.replace('0.0',  'Not present')\n",
        "db.OccupationArea = db.OccupationArea.str.replace('1.0', 'Other')\n",
        "db.OccupationArea = db.OccupationArea.str.replace('2.0', 'Mining')\n",
        "db.OccupationArea = db.OccupationArea.str.replace('3.0', 'Processing')\n",
        "db.OccupationArea = db.OccupationArea.str.replace('4.0', 'Energy')\n",
        "db.OccupationArea = db.OccupationArea.str.replace('5.0', 'Utilities')\n",
        "db.OccupationArea = db.OccupationArea.str.replace('6.0', 'Construction')\n",
        "db.OccupationArea = db.OccupationArea.str.replace('7.0', 'Retail and wholesale')\n",
        "db.OccupationArea = db.OccupationArea.str.replace('8.0', 'Transport and warehousing')\n",
        "db.OccupationArea = db.OccupationArea.str.replace('9.0',  'Hospitality and catering')"
      ],
      "metadata": {
        "id": "LlsAIZzwN2Nm"
      },
      "execution_count": 155,
      "outputs": []
    },
    {
      "cell_type": "code",
      "source": [
        "# Check\n",
        "db.OccupationArea.value_counts()"
      ],
      "metadata": {
        "colab": {
          "base_uri": "https://localhost:8080/"
        },
        "id": "d-i2x_N6OF1A",
        "outputId": "390f1e34-3f66-4088-cc96-35fe3f03123e"
      },
      "execution_count": 156,
      "outputs": [
        {
          "output_type": "execute_result",
          "data": {
            "text/plain": [
              "Not present                          44325\n",
              "Other                                 7640\n",
              "Retail and wholesale                  3207\n",
              "Construction                          3007\n",
              "Processing                            2876\n",
              "Transport and warehousing             2276\n",
              "Healthcare and social help            2186\n",
              "Hospitality and catering              2106\n",
              "Info and telecom                      1782\n",
              "Civil service & military              1555\n",
              "Education                             1251\n",
              "Finance and insurance                 1054\n",
              "Agriculture, forestry and fishing      893\n",
              "Administrative                         798\n",
              "Energy                                 530\n",
              "Art and entertainment                  524\n",
              "Research                               493\n",
              "Real-estate                            433\n",
              "Utilities                              342\n",
              "Mining                                 116\n",
              "Name: OccupationArea, dtype: int64"
            ]
          },
          "metadata": {},
          "execution_count": 156
        }
      ]
    },
    {
      "cell_type": "code",
      "source": [
        "db.HomeOwnershipType.value_counts()"
      ],
      "metadata": {
        "colab": {
          "base_uri": "https://localhost:8080/"
        },
        "id": "u8KieE1GOJ79",
        "outputId": "725c7622-7779-4082-be62-41b8a99c0f2f"
      },
      "execution_count": 158,
      "outputs": [
        {
          "output_type": "execute_result",
          "data": {
            "text/plain": [
              " 1.0     24594\n",
              " 3.0     16842\n",
              " 2.0     12776\n",
              " 8.0      8762\n",
              " 4.0      4031\n",
              " 10.0     3179\n",
              " 7.0      2701\n",
              " 6.0      1362\n",
              " 5.0       882\n",
              " 9.0       565\n",
              " 0.0        46\n",
              "-1.0         2\n",
              "Name: HomeOwnershipType, dtype: int64"
            ]
          },
          "metadata": {},
          "execution_count": 158
        }
      ]
    },
    {
      "cell_type": "code",
      "source": [
        "# Replcae Null values by \"Not specified\"\n",
        "db.HomeOwnershipType.fillna(\"Not specified\", inplace = True)"
      ],
      "metadata": {
        "id": "1myIrGYIOPD1"
      },
      "execution_count": 159,
      "outputs": []
    },
    {
      "cell_type": "code",
      "source": [
        "# Convert from int types to string first\n",
        "db.HomeOwnershipType = db.HomeOwnershipType.astype(object)\n",
        "\n",
        "for i in range(len(db.HomeOwnershipType.values)):\n",
        "    db.HomeOwnershipType.values[i] = str(db.HomeOwnershipType.values[i])"
      ],
      "metadata": {
        "id": "Djce3lZgOUqF"
      },
      "execution_count": 160,
      "outputs": []
    },
    {
      "cell_type": "code",
      "source": [
        "## We will replace -1 and 0 by \"Not specified\"\n",
        "## And from the Bonora dataset we find : 0 Homeless 1 Owner 2 Living with parents 3 Tenant,pre-furnished property \n",
        "##4 Tenant,unfurnished property 5 Council house 6 Joint tenant 7 Joint ownership 8 Mortgage 9 Owner with encumbrance 10 Other\n",
        "db.HomeOwnershipType = db.HomeOwnershipType.str.replace('10.0', 'Other')\n",
        "db.HomeOwnershipType = db.HomeOwnershipType.str.replace('-1.0', 'Not specified')\n",
        "db.HomeOwnershipType = db.HomeOwnershipType.str.replace('0.0',  'Homeless')\n",
        "db.HomeOwnershipType = db.HomeOwnershipType.str.replace('1.0', 'Owner')\n",
        "db.HomeOwnershipType = db.HomeOwnershipType.str.replace('2.0', 'Living with parents')\n",
        "db.HomeOwnershipType = db.HomeOwnershipType.str.replace('3.0', 'Tenant,pre-furnished property')\n",
        "db.HomeOwnershipType = db.HomeOwnershipType.str.replace('4.0', 'Tenant,pre-furnished property')\n",
        "db.HomeOwnershipType = db.HomeOwnershipType.str.replace('5.0', 'Council house')\n",
        "db.HomeOwnershipType = db.HomeOwnershipType.str.replace('6.0', 'Joint tenant')\n",
        "db.HomeOwnershipType = db.HomeOwnershipType.str.replace('7.0', 'Joint ownership')\n",
        "db.HomeOwnershipType = db.HomeOwnershipType.str.replace('8.0', 'Mortgage')\n",
        "db.HomeOwnershipType = db.HomeOwnershipType.str.replace('9.0',  'Owner with encumbrance')"
      ],
      "metadata": {
        "id": "p5Wa5s2oObVA"
      },
      "execution_count": 161,
      "outputs": []
    },
    {
      "cell_type": "code",
      "source": [
        "# Check \n",
        "db.HomeOwnershipType.value_counts()"
      ],
      "metadata": {
        "colab": {
          "base_uri": "https://localhost:8080/"
        },
        "id": "63foE6OHOq9_",
        "outputId": "109c5016-1d47-4a12-deab-ae0d8a50356a"
      },
      "execution_count": 162,
      "outputs": [
        {
          "output_type": "execute_result",
          "data": {
            "text/plain": [
              "Owner                            24594\n",
              "Tenant,pre-furnished property    20873\n",
              "Living with parents              12776\n",
              "Mortgage                          8762\n",
              "Other                             3179\n",
              "Joint ownership                   2701\n",
              "Not specified                     1654\n",
              "Joint tenant                      1362\n",
              "Council house                      882\n",
              "Owner with encumbrance             565\n",
              "Homeless                            46\n",
              "Name: HomeOwnershipType, dtype: int64"
            ]
          },
          "metadata": {},
          "execution_count": 162
        }
      ]
    },
    {
      "cell_type": "code",
      "source": [
        "# replace Null values by most frequent value\n",
        "db.Rating.fillna('F', inplace = True)"
      ],
      "metadata": {
        "id": "wZfOSqViO0xo"
      },
      "execution_count": 164,
      "outputs": []
    },
    {
      "cell_type": "code",
      "source": [
        "db.CreditScoreEsMicroL.fillna('M', inplace = True)"
      ],
      "metadata": {
        "id": "tcXkltK3PAUL"
      },
      "execution_count": 166,
      "outputs": []
    },
    {
      "cell_type": "code",
      "source": [
        "db.CreditScoreEsMicroL.fillna('M', inplace = True)"
      ],
      "metadata": {
        "id": "ASdV1EuuPdK0"
      },
      "execution_count": 167,
      "outputs": []
    },
    {
      "cell_type": "code",
      "source": [
        "db.EmploymentDurationCurrentEmployer.value_counts()"
      ],
      "metadata": {
        "colab": {
          "base_uri": "https://localhost:8080/"
        },
        "id": "LAoNahLbPmKd",
        "outputId": "cf74f042-5449-4d50-ea27-c53ae54076fb"
      },
      "execution_count": 168,
      "outputs": [
        {
          "output_type": "execute_result",
          "data": {
            "text/plain": [
              "MoreThan5Years    29328\n",
              "UpTo1Year         14288\n",
              "UpTo5Years        13777\n",
              "UpTo2Years         5541\n",
              "UpTo3Years         4539\n",
              "Retiree            3344\n",
              "UpTo4Years         3057\n",
              "Other              2027\n",
              "TrialPeriod         619\n",
              "Name: EmploymentDurationCurrentEmployer, dtype: int64"
            ]
          },
          "metadata": {},
          "execution_count": 168
        }
      ]
    },
    {
      "cell_type": "code",
      "source": [
        "db.MonthlyPayment.fillna(db.MonthlyPayment.mean(), inplace = True)\n",
        "db.DebtToIncome.fillna(db.DebtToIncome.mean(), inplace = True)\n",
        "db.FreeCash.fillna(db.FreeCash.mean(), inplace = True) \n",
        "db.PreviousRepaymentsBeforeLoan.fillna(db.PreviousRepaymentsBeforeLoan.mean(), inplace = True)"
      ],
      "metadata": {
        "id": "0Fb3azSSPoyc"
      },
      "execution_count": 169,
      "outputs": []
    },
    {
      "cell_type": "code",
      "source": [],
      "metadata": {
        "id": "EGlaKTjSPzQw"
      },
      "execution_count": null,
      "outputs": []
    }
  ]
}